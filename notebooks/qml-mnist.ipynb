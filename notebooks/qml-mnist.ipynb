{
 "cells": [
  {
   "cell_type": "code",
   "execution_count": 1,
   "id": "0a8fb408",
   "metadata": {},
   "outputs": [
    {
     "name": "stderr",
     "output_type": "stream",
     "text": [
      "Please first ``pip install -U cirq`` to enable related functionality in translation module\n"
     ]
    }
   ],
   "source": [
    "from functools import partial\n",
    "import numpy as np\n",
    "import tensorflow as tf\n",
    "import jax\n",
    "from jax.config import config\n",
    "\n",
    "config.update(\"jax_enable_x64\", True)\n",
    "from jax import numpy as jnp\n",
    "import optax\n",
    "import tensorcircuit as tc"
   ]
  },
  {
   "cell_type": "code",
   "execution_count": 2,
   "id": "f6bf621b",
   "metadata": {},
   "outputs": [
    {
     "data": {
      "text/plain": [
       "('complex128', 'float64')"
      ]
     },
     "execution_count": 2,
     "metadata": {},
     "output_type": "execute_result"
    }
   ],
   "source": [
    "tc.set_backend(\"tensorflow\")\n",
    "tc.set_dtype(\"complex128\")"
   ]
  },
  {
   "cell_type": "code",
   "execution_count": 3,
   "id": "8eb8a2d1",
   "metadata": {},
   "outputs": [
    {
     "name": "stderr",
     "output_type": "stream",
     "text": [
      "2023-09-01 20:09:36.363369: W tensorflow/core/common_runtime/gpu/gpu_bfc_allocator.cc:39] Overriding allow_growth setting because the TF_FORCE_GPU_ALLOW_GROWTH environment variable is set. Original config value was 0.\n",
      "2023-09-01 20:09:36.367473: W tensorflow/core/framework/cpu_allocator_impl.cc:82] Allocation of 76286336 exceeds 10% of free system memory.\n"
     ]
    }
   ],
   "source": [
    "# numpy data\n",
    "(x_train, y_train), (x_test, y_test) = tf.keras.datasets.mnist.load_data()\n",
    "x_train = x_train[..., np.newaxis] / 255.0\n",
    "\n",
    "\n",
    "def filter_pair(x, y, a, b):\n",
    "    keep = (y == a) | (y == b)\n",
    "    x, y = x[keep], y[keep]\n",
    "    y = y == a\n",
    "    return x, y\n",
    "\n",
    "\n",
    "x_train, y_train = filter_pair(x_train, y_train, 1, 5)\n",
    "x_train_small = tf.image.resize(x_train, (3, 3)).numpy()\n",
    "x_train_bin = np.array(x_train_small > 0.5, dtype=np.float32)\n",
    "x_train_bin = np.squeeze(x_train_bin)[:100]"
   ]
  },
  {
   "cell_type": "code",
   "execution_count": 4,
   "id": "7cbfb170",
   "metadata": {},
   "outputs": [],
   "source": [
    "# tensorflow data\n",
    "\n",
    "x_train_tf = tf.reshape(tf.constant(x_train_bin, dtype=tf.float64), [-1, 9])\n",
    "y_train_tf = tf.constant(y_train[:100], dtype=tf.float64)\n",
    "\n",
    "# jax data\n",
    "\n",
    "x_train_jax = jnp.array(x_train_bin, dtype=np.float64).reshape([100, -1])\n",
    "y_train_jax = jnp.array(y_train[:100], dtype=np.float64).reshape([100])"
   ]
  },
  {
   "cell_type": "code",
   "execution_count": 18,
   "id": "df5db251",
   "metadata": {},
   "outputs": [],
   "source": [
    "mnist_data = (\n",
    "    tf.data.Dataset.from_tensor_slices((x_train_tf, y_train_tf))\n",
    "    .repeat(200)\n",
    "    .shuffle(100)\n",
    "    .batch(32)\n",
    ")"
   ]
  },
  {
   "cell_type": "code",
   "execution_count": 5,
   "id": "dab787cf",
   "metadata": {},
   "outputs": [
    {
     "data": {
      "text/plain": [
       "jax_backend"
      ]
     },
     "execution_count": 5,
     "metadata": {},
     "output_type": "execute_result"
    }
   ],
   "source": [
    "tc.set_backend(\"jax\")"
   ]
  },
  {
   "cell_type": "code",
   "execution_count": 12,
   "id": "cfbffd1a",
   "metadata": {},
   "outputs": [],
   "source": [
    "nlayers = 3\n",
    "\n",
    "def qml_ys(x, weights, nlayers):\n",
    "    n = 9\n",
    "    weights = tc.backend.cast(weights, \"complex128\")\n",
    "    x = tc.backend.cast(x, \"complex128\")\n",
    "    c = tc.Circuit(n)\n",
    "    for i in range(n):\n",
    "        c.rx(i, theta=x[i])\n",
    "    for j in range(nlayers):\n",
    "        for i in range(n - 1):\n",
    "            c.cnot(i, i + 1)\n",
    "        for i in range(n):\n",
    "            c.rx(i, theta=weights[2 * j, i])\n",
    "            c.ry(i, theta=weights[2 * j + 1, i])\n",
    "    ypreds = []\n",
    "    for i in range(n):\n",
    "        ypred = c.expectation([tc.gates.z(), (i,)])\n",
    "        ypred = tc.backend.real(ypred)\n",
    "        ypred = (tc.backend.real(ypred) + 1) / 2.0\n",
    "        ypreds.append(ypred)\n",
    "    return tc.backend.stack(ypreds)"
   ]
  },
  {
   "cell_type": "code",
   "execution_count": 13,
   "id": "191024a5",
   "metadata": {},
   "outputs": [],
   "source": [
    "key = jax.random.PRNGKey(42)\n",
    "key, *subkeys = jax.random.split(key, num=4)\n",
    "params = {\n",
    "    \"qweights\": jax.random.normal(subkeys[0], shape=[nlayers * 2, 9]),\n",
    "    \"cweights:w\": jax.random.normal(subkeys[1], shape=[9]),\n",
    "    \"cweights:b\": jax.random.normal(subkeys[2], shape=[1]),\n",
    "}"
   ]
  },
  {
   "cell_type": "code",
   "execution_count": 14,
   "id": "c6a44ef8",
   "metadata": {},
   "outputs": [],
   "source": [
    "def qml_hybrid_loss(x, y, params, nlayers):\n",
    "    weights = params[\"qweights\"]\n",
    "    w = params[\"cweights:w\"]\n",
    "    b = params[\"cweights:b\"]\n",
    "    ypred = qml_ys(x, weights, nlayers)\n",
    "    ypred = tc.backend.reshape(ypred, [-1, 1])\n",
    "    ypred = w @ ypred + b\n",
    "    ypred = jax.nn.sigmoid(ypred)\n",
    "    ypred = ypred[0]\n",
    "    loss = -y * tc.backend.log(ypred) - (1 - y) * tc.backend.log(1 - ypred)\n",
    "    return loss"
   ]
  },
  {
   "cell_type": "code",
   "execution_count": 15,
   "id": "7a911e4c",
   "metadata": {},
   "outputs": [],
   "source": [
    "qml_hybrid_loss_vag = tc.backend.jit(\n",
    "    tc.backend.vvag(qml_hybrid_loss, vectorized_argnums=(0, 1), argnums=2),\n",
    "    static_argnums=3,\n",
    ")"
   ]
  },
  {
   "cell_type": "code",
   "execution_count": 16,
   "id": "bfb8f4ff",
   "metadata": {},
   "outputs": [
    {
     "data": {
      "text/plain": [
       "(Array([3.73282398, 0.02421603, 0.02899787, 0.02421603, 4.08996787,\n",
       "        0.03069481, 0.02421603, 0.01688146, 4.08996787, 0.03069481,\n",
       "        4.08996787, 0.02421603, 4.08996787, 0.02421603, 0.02899787,\n",
       "        0.03354042, 0.02421603, 0.02421603, 0.01688146, 4.08996787,\n",
       "        0.03354042, 0.02421603, 0.02421603, 0.03069481, 0.02421603,\n",
       "        0.02421603, 0.03069481, 3.73798651, 0.02421603, 3.68810189,\n",
       "        4.08996787, 0.03069481, 3.73282398, 0.03069481, 3.73282398,\n",
       "        0.02421603, 3.49674264, 0.02421603, 4.08996787, 0.02899787,\n",
       "        0.02421603, 0.02421603, 0.03069481, 0.03069481, 3.73282398,\n",
       "        0.02533775, 0.03069481, 3.68810189, 3.73282398, 3.49896983,\n",
       "        0.02899787, 0.03069481, 4.08996787, 3.41172721, 0.02421603,\n",
       "        0.02421603, 3.73282398, 0.02421603, 3.73798651, 3.68810189,\n",
       "        4.08996787, 0.03069481, 4.08996787, 0.02421603, 0.03069481,\n",
       "        0.02421603, 3.68810189, 3.49896983, 3.49896983, 4.08996787,\n",
       "        0.02421603, 0.02421603, 0.02421603, 0.02421603, 0.03069481,\n",
       "        0.02899787, 3.41172721, 0.03354042, 0.02899787, 3.68810189,\n",
       "        0.02421603, 0.03354042, 3.73282398, 0.02899787, 3.73282398,\n",
       "        0.03069481, 0.02421603, 3.73282398, 3.68810189, 3.73282398,\n",
       "        0.02421603, 0.02421603, 0.03069481, 0.03069481, 0.02421603,\n",
       "        4.08996787, 0.02421603, 0.01688146, 3.73282398, 0.02421603],      dtype=float64),\n",
       " {'cweights:b': Array([34.49476789], dtype=float64),\n",
       "  'cweights:w': Array([16.81782277, 15.05718878, 15.02498328, 23.18351696, 17.01897109,\n",
       "         16.13466029, 16.26046722, 23.54180309, 12.0721068 ], dtype=float64),\n",
       "  'qweights': Array([[-1.16993912e+01, -6.74730815e+00, -2.27227872e+00,\n",
       "          -1.08703899e+00,  2.56625721e+00,  1.69462223e+00,\n",
       "          -4.89847061e+00,  1.62487935e+00,  1.02424785e+01],\n",
       "         [ 3.29984130e+00, -5.90635608e-01,  2.11407610e+00,\n",
       "           3.67096431e-02,  3.32526833e+00, -1.06468920e+00,\n",
       "          -4.12299772e-01, -7.78105081e+00, -3.38506241e+00],\n",
       "         [-3.59434442e+00,  3.84548015e+00,  8.50409406e-01,\n",
       "          -2.66504333e+00,  1.47559967e+00,  1.38536529e+00,\n",
       "          -1.47291602e-01, -7.32213541e+00,  5.17021200e+00],\n",
       "         [-1.30975045e+00,  1.83003338e+00,  1.51443252e+00,\n",
       "           3.15082430e+00, -4.41767236e+00,  6.25968228e+00,\n",
       "           5.96980281e+00,  9.67198061e+00, -1.63091455e+01],\n",
       "         [-2.24757712e+00, -5.66276080e-01, -1.67376432e+00,\n",
       "           1.75249049e-01,  2.77917505e-01,  3.84402979e-02,\n",
       "           1.03434679e-01, -4.05760762e-02, -3.33671956e-03],\n",
       "         [ 3.13599600e+00,  3.85470136e+00,  3.17986238e-01,\n",
       "           1.72308312e-01,  5.09749793e+00,  2.90706770e-02,\n",
       "          -5.59919189e-01,  1.96734688e+00, -6.96372626e-01]],      dtype=float64)})"
      ]
     },
     "execution_count": 16,
     "metadata": {},
     "output_type": "execute_result"
    }
   ],
   "source": [
    "qml_hybrid_loss_vag(x_train_jax, y_train_jax, params, nlayers)"
   ]
  },
  {
   "cell_type": "code",
   "execution_count": 19,
   "id": "e2a83ab8",
   "metadata": {},
   "outputs": [
    {
     "name": "stdout",
     "output_type": "stream",
     "text": [
      "1.273615182667982\n",
      "1.124644842058637\n",
      "0.7292118873826958\n",
      "0.6674623788129876\n",
      "0.6532813834632301\n",
      "0.7178720292192107\n",
      "0.6414470539370705\n",
      "0.6474652457593493\n",
      "0.5847641858529047\n",
      "0.6065594368458376\n",
      "0.6120711071926281\n",
      "0.5350079057453128\n",
      "0.5833160269879363\n",
      "0.5850338299436212\n",
      "0.5602535448981196\n",
      "0.5386627879688142\n",
      "0.5621691259039326\n",
      "0.5350945646936454\n",
      "0.46571385470218807\n",
      "0.45973075771167393\n",
      "0.44349699787046953\n"
     ]
    }
   ],
   "source": [
    "optimizer = optax.adam(5e-3)\n",
    "opt_state = optimizer.init(params)\n",
    "for i, (xs, ys) in zip(range(2000), mnist_data):  # using tf data loader here\n",
    "    xs = xs.numpy()\n",
    "    ys = ys.numpy()\n",
    "    v, grads = qml_hybrid_loss_vag(xs, ys, params, nlayers)\n",
    "    updates, opt_state = optimizer.update(grads, opt_state)\n",
    "    params = optax.apply_updates(params, updates)\n",
    "    if i % 30 == 0:\n",
    "        print(jnp.mean(v))"
   ]
  },
  {
   "cell_type": "code",
   "execution_count": null,
   "id": "d31fead6",
   "metadata": {},
   "outputs": [],
   "source": []
  }
 ],
 "metadata": {
  "kernelspec": {
   "display_name": "Python (qmlhep)",
   "language": "python",
   "name": "qmlhep"
  },
  "language_info": {
   "codemirror_mode": {
    "name": "ipython",
    "version": 3
   },
   "file_extension": ".py",
   "mimetype": "text/x-python",
   "name": "python",
   "nbconvert_exporter": "python",
   "pygments_lexer": "ipython3",
   "version": "3.8.1"
  }
 },
 "nbformat": 4,
 "nbformat_minor": 5
}
