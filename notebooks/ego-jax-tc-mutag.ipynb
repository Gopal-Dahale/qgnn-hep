{
 "cells": [
  {
   "cell_type": "code",
   "execution_count": 1,
   "id": "3ba087bf",
   "metadata": {},
   "outputs": [],
   "source": [
    "import os\n",
    "# os.environ['CUDA_VISIBLE_DEVICES'] = '-1' # Comment this to use gpu"
   ]
  },
  {
   "cell_type": "code",
   "execution_count": 9,
   "id": "0a014f50",
   "metadata": {},
   "outputs": [
    {
     "name": "stdout",
     "output_type": "stream",
     "text": [
      "0.10.0\n"
     ]
    }
   ],
   "source": [
    "import torch_geometric\n",
    "import torch_geometric.nn as geom_nn\n",
    "import torch_geometric.data as geom_data\n",
    "from torch_geometric.utils import to_dense_batch, to_dense_adj, k_hop_subgraph, to_networkx\n",
    "import torch\n",
    "import jax\n",
    "import numpy as np\n",
    "import jax.numpy as jnp\n",
    "import tensorcircuit as tc\n",
    "from tqdm import tqdm\n",
    "from time import time\n",
    "from itertools import zip_longest\n",
    "import networkx as nx\n",
    "\n",
    "torch.set_float32_matmul_precision(\"medium\")\n",
    "K = tc.set_backend(\"jax\")\n",
    "print(tc.__version__)"
   ]
  },
  {
   "cell_type": "code",
   "execution_count": 10,
   "id": "074b135a",
   "metadata": {},
   "outputs": [
    {
     "data": {
      "text/plain": [
       "[CpuDevice(id=0)]"
      ]
     },
     "execution_count": 10,
     "metadata": {},
     "output_type": "execute_result"
    }
   ],
   "source": [
    "jax.devices()"
   ]
  },
  {
   "cell_type": "code",
   "execution_count": 11,
   "id": "16bf753a",
   "metadata": {},
   "outputs": [
    {
     "data": {
      "text/plain": [
       "TUDataset (#graphs=188):\n",
       "+------------+----------+----------+\n",
       "|            |   #nodes |   #edges |\n",
       "|------------+----------+----------|\n",
       "| mean       |       28 |       66 |\n",
       "| std        |        0 |        0 |\n",
       "| min        |       28 |       66 |\n",
       "| quantile25 |       28 |       66 |\n",
       "| median     |       28 |       66 |\n",
       "| quantile75 |       28 |       66 |\n",
       "| max        |       28 |       66 |\n",
       "+------------+----------+----------+"
      ]
     },
     "execution_count": 11,
     "metadata": {},
     "output_type": "execute_result"
    }
   ],
   "source": [
    "DATASET_PATH = \"./data\"\n",
    "tu_dataset = torch_geometric.datasets.TUDataset(root=DATASET_PATH,\n",
    "                                                name=\"MUTAG\")\n",
    "tu_dataset.shuffle()\n",
    "\n",
    "import torch_geometric.transforms as T\n",
    "transform = T.Compose([T.Pad(28, 66)])\n",
    "tu_dataset = torch_geometric.datasets.TUDataset(root=DATASET_PATH, name=\"MUTAG\", transform=transform)\n",
    "tu_dataset.get_summary()"
   ]
  },
  {
   "cell_type": "code",
   "execution_count": 12,
   "id": "ba2acd59",
   "metadata": {},
   "outputs": [
    {
     "data": {
      "text/plain": [
       "28.0"
      ]
     },
     "execution_count": 12,
     "metadata": {},
     "output_type": "execute_result"
    }
   ],
   "source": [
    "tu_dataset.get_summary().num_nodes.max"
   ]
  },
  {
   "cell_type": "code",
   "execution_count": 13,
   "id": "d6ed093a",
   "metadata": {},
   "outputs": [],
   "source": [
    "k = 3\n",
    "max_nodes = 28\n",
    "n_features = tu_dataset.num_features"
   ]
  },
  {
   "cell_type": "code",
   "execution_count": 53,
   "id": "c021ffa8",
   "metadata": {},
   "outputs": [
    {
     "data": {
      "text/plain": [
       "7"
      ]
     },
     "execution_count": 53,
     "metadata": {},
     "output_type": "execute_result"
    }
   ],
   "source": [
    "n_features"
   ]
  },
  {
   "cell_type": "code",
   "execution_count": 58,
   "id": "d99e920b",
   "metadata": {
    "code_folding": []
   },
   "outputs": [
    {
     "name": "stdout",
     "output_type": "stream",
     "text": [
      "Duration: 11.262277841567993\n"
     ]
    }
   ],
   "source": [
    "s = time()\n",
    "\n",
    "temp_dataset = []\n",
    "\n",
    "max_ego_nodes = 0\n",
    "\n",
    "for data in tu_dataset:\n",
    "    n_nodes = data.num_nodes\n",
    "    \n",
    "    ego_nodes = []\n",
    "    for node in range(n_nodes):\n",
    "        \n",
    "        try:\n",
    "            subset, edge_index, _, _ = k_hop_subgraph(node,\n",
    "                                                  k,\n",
    "                                                  data.edge_index,\n",
    "                                                  directed=False)\n",
    "        except:\n",
    "            subset = []\n",
    "            edge_index = torch.tensor([])\n",
    "            \n",
    "        n_subset_nodes = len(subset)\n",
    "        \n",
    "        if n_subset_nodes:\n",
    "            G = nx.Graph()\n",
    "            G.add_edges_from(edge_index.numpy().T)\n",
    "            paths = nx.single_source_shortest_path_length(G, node, cutoff=k)\n",
    "\n",
    "            nodes = np.array(list(paths.keys()))\n",
    "            dists = np.array(list(paths.values()))\n",
    "\n",
    "            hop_nodes = [\n",
    "                [node] + list(nodes[np.where(dists == hop)[0]]) for hop in range(1, k + 1)\n",
    "            ]\n",
    "            \n",
    "            hop_nodes = np.array(list(zip_longest(*hop_nodes, fillvalue=max_nodes+1))).T\n",
    "        else:\n",
    "            dists = np.array([])\n",
    "            hop_nodes = np.array([np.array([])]*k)\n",
    "            \n",
    "        ego_nodes.append(hop_nodes)\n",
    "\n",
    "        max_ego_nodes = max(max_ego_nodes, hop_nodes.shape[-1])\n",
    "\n",
    "    temp_dataset.append(ego_nodes)\n",
    "    \n",
    "e = time()\n",
    "print(\"Duration:\", e-s)"
   ]
  },
  {
   "cell_type": "code",
   "execution_count": 15,
   "id": "d17168f5",
   "metadata": {
    "code_folding": []
   },
   "outputs": [
    {
     "name": "stdout",
     "output_type": "stream",
     "text": [
      "Duration: 0.16064238548278809\n"
     ]
    }
   ],
   "source": [
    "s = time()\n",
    "ego_dataset = np.stack([np.stack([\n",
    "        np.pad(ego_nodes, ((0, 0), (0, max_ego_nodes - ego_nodes.shape[-1])),\n",
    "               constant_values=max_nodes+1) for ego_nodes in data\n",
    "    ]) for data in temp_dataset]).astype(np.int32)\n",
    "e = time()\n",
    "print(\"Duration:\", e-s)"
   ]
  },
  {
   "cell_type": "code",
   "execution_count": 16,
   "id": "ce477e89",
   "metadata": {},
   "outputs": [
    {
     "data": {
      "text/plain": [
       "(188, 28, 3, 9)"
      ]
     },
     "execution_count": 16,
     "metadata": {},
     "output_type": "execute_result"
    }
   ],
   "source": [
    "ego_dataset.shape"
   ]
  },
  {
   "cell_type": "code",
   "execution_count": 17,
   "id": "390050c4",
   "metadata": {},
   "outputs": [],
   "source": [
    "from torch.utils.data import Dataset\n",
    "\n",
    "class MUTAGDataset(Dataset):\n",
    "    \"\"\"Face Landmarks dataset.\"\"\"\n",
    "    def __init__(self):\n",
    "        pass\n",
    "    \n",
    "    def __len__(self):\n",
    "        return len(tu_dataset)\n",
    "\n",
    "    def __getitem__(self, idx):\n",
    "        data = tu_dataset[idx]\n",
    "        return {\n",
    "            'x': data.x,\n",
    "            'ego_graphs': torch.tensor(ego_dataset[idx]),\n",
    "            'y': data.y\n",
    "        }"
   ]
  },
  {
   "cell_type": "code",
   "execution_count": 18,
   "id": "124aa7b1",
   "metadata": {},
   "outputs": [],
   "source": [
    "import ml_collections\n",
    "\n",
    "def get_config():\n",
    "    \"\"\"Get the default hyperparameter configuration.\"\"\"\n",
    "    config = ml_collections.ConfigDict()\n",
    "\n",
    "    config.learning_rate = 0.001\n",
    "    config.batch_size = 16\n",
    "    config.num_epochs = 200\n",
    "    return config"
   ]
  },
  {
   "cell_type": "code",
   "execution_count": 19,
   "id": "e3b7fa82",
   "metadata": {},
   "outputs": [],
   "source": [
    "from torch.utils.data import random_split, DataLoader\n",
    "\n",
    "def my_collate_fn(batch):\n",
    "    x = []\n",
    "    y = []\n",
    "    ego_graphs = []\n",
    "    for data in batch:\n",
    "        x += [data['x']]\n",
    "        y += [data['y']]\n",
    "        ego_graphs += [data['ego_graphs']]\n",
    "    \n",
    "    x = torch.stack(x)\n",
    "    y = torch.stack(y)\n",
    "    ego_graphs = torch.stack(ego_graphs)\n",
    "    return x, y, ego_graphs\n",
    "\n",
    "\n",
    "def get_loaders(config):\n",
    "    split = 188\n",
    "    mutag_ds = MUTAGDataset()\n",
    "\n",
    "    split_a_size = split\n",
    "    split_b_size = len(mutag_ds) - split_a_size\n",
    "\n",
    "    train_dataset, test_dataset = random_split(\n",
    "        mutag_ds, [split_a_size, split_b_size],\n",
    "        generator=torch.Generator().manual_seed(42))\n",
    "\n",
    "    batch_size = config.batch_size\n",
    "    train_loader = DataLoader(train_dataset,\n",
    "                              batch_size=batch_size,\n",
    "                              shuffle=True,\n",
    "                              collate_fn=my_collate_fn,\n",
    "                              pin_memory=True,\n",
    "                              num_workers=8)\n",
    "\n",
    "    val_loader = DataLoader(test_dataset,\n",
    "                            batch_size=batch_size,\n",
    "                            shuffle=False,\n",
    "                            collate_fn=my_collate_fn,\n",
    "                            pin_memory=True,\n",
    "                            num_workers=8)\n",
    "    \n",
    "    return train_loader, val_loader"
   ]
  },
  {
   "cell_type": "code",
   "execution_count": 20,
   "id": "118ebc03",
   "metadata": {},
   "outputs": [],
   "source": [
    "import optax\n",
    "from typing import Callable\n",
    "\n",
    "\n",
    "def graph_circ(ego_graphs, x, lmbd, theta):\n",
    "    n_qubits = ego_graphs.shape[-1] \n",
    "    n_features = x.shape[-1]\n",
    "    n_hops = ego_graphs.shape[-2]\n",
    "    steps = n_features // 3\n",
    "    readout = n_qubits\n",
    "    c = tc.Circuit(n_qubits + 1)\n",
    "    \n",
    "#     # Cluster state\n",
    "#     for q in range(n_qubits):\n",
    "#         c.H(q)\n",
    "#     for q in range(n_qubits - 1):\n",
    "#         c.cz(q, q+1)\n",
    "        \n",
    "#     c.cz(n_qubits - 1, 0)\n",
    "    \n",
    "#     # prepare readout\n",
    "#     c.X(readout)\n",
    "#     c.H(readout)\n",
    "    \n",
    "#     # circuit\n",
    "#     for hop in range(n_hops):\n",
    "#         inputs = jnp.take(x, ego_graphs[hop], axis=0)\n",
    "#         inputs = jnp.nan_to_num(inputs)\n",
    "#         print(x.shape, ego_graphs[hop].shape, inputs.shape, lmbd[hop].shape)\n",
    "#         inputs = jnp.multiply(inputs, lmbd[hop])        \n",
    "        \n",
    "#         for q in range(n_qubits):\n",
    "#             for i in range(steps):\n",
    "#                 c.rx(q, theta=inputs[q, 3*i])\n",
    "#                 c.ry(q, theta=inputs[q, 3*i + 1])\n",
    "#                 c.rz(q, theta=inputs[q, 3*i + 2])\n",
    "            \n",
    "#         for q in range(n_qubits):\n",
    "#             c.rxx(q, readout, theta=theta[hop, q])\n",
    "    \n",
    "#     # prepare readout\n",
    "#     c.H(readout)\n",
    "#     return K.real(c.expectation_ps(z=[readout]))\n",
    "    \n",
    "    # Paper's implementation\n",
    "    for hop in range(n_hops):\n",
    "        inputs = jnp.take(x, ego_graphs[hop], axis=0)\n",
    "        inputs = jnp.nan_to_num(inputs)\n",
    "        inputs = jnp.multiply(inputs, lmbd[hop])        \n",
    "        \n",
    "        for q in range(n_qubits):\n",
    "            for i in range(steps):\n",
    "                c.rx(q, theta=inputs[q, 3*i])\n",
    "                c.ry(q, theta=inputs[q, 3*i + 1])\n",
    "                c.rz(q, theta=inputs[q, 3*i + 2])\n",
    "            \n",
    "            c.rx(q, theta=theta[hop, q, 0])\n",
    "            c.ry(q, theta=theta[hop, q, 1])\n",
    "            c.rz(q, theta=theta[hop, q, 2])\n",
    "            \n",
    "        for q in range(n_qubits - 1):\n",
    "            c.cz(i, i + 1)\n",
    "            \n",
    "    return K.real(jnp.array([c.expectation_ps(z=[i]) for i in range(n_qubits)]))\n",
    "    \n",
    "qpred_vmap = K.vmap(K.jit(graph_circ), vectorized_argnums=(0, ))"
   ]
  },
  {
   "cell_type": "code",
   "execution_count": 46,
   "id": "f95705ca",
   "metadata": {},
   "outputs": [],
   "source": [
    "n_qubits = max_ego_nodes\n",
    "n_hops = k\n",
    "\n",
    "key = jax.random.PRNGKey(0)\n",
    "key, *subkeys = jax.random.split(key, num=5)\n",
    "\n",
    "lmbd = jax.random.uniform(subkeys[0], (n_hops, n_qubits, n_features))\n",
    "theta = jax.random.uniform(subkeys[1], (n_hops, n_qubits, 3)) # paper's implementation\n",
    "# theta = jax.random.uniform(subkeys[1], (n_hops, n_qubits))\n",
    "w = jax.random.uniform(subkeys[2], (2, n_qubits)) # paper's implementation\n",
    "b = jax.random.uniform(subkeys[3], (2,)) # paper's implementation\n",
    "# w = jax.random.uniform(subkeys[2], (2, max_nodes))\n",
    "# b = jax.random.uniform(subkeys[3], (2,))\n",
    "\n",
    "params = {'lmbd': lmbd, 'theta': theta, 'w': w, 'b': b}\n",
    "\n",
    "config = get_config()\n",
    "optimizer = optax.adam(learning_rate=config.learning_rate)\n",
    "opt_state = optimizer.init(params)"
   ]
  },
  {
   "cell_type": "code",
   "execution_count": 56,
   "id": "2ea37c8b",
   "metadata": {},
   "outputs": [
    {
     "data": {
      "text/plain": [
       "torch.Size([16, 28, 7])"
      ]
     },
     "execution_count": 56,
     "metadata": {},
     "output_type": "execute_result"
    }
   ],
   "source": [
    "next(iter(train_loader))[0].shape"
   ]
  },
  {
   "cell_type": "code",
   "execution_count": 48,
   "id": "83b25ce6",
   "metadata": {},
   "outputs": [],
   "source": [
    "def loss_fn(params, x, y, ego_graphs):\n",
    "    res = qpred_vmap(ego_graphs, x, params['lmbd'], params['theta'])\n",
    "    print(res.shape)\n",
    "#     res = res.reshape(-1, )\n",
    "    res = jnp.mean(res, axis=0) # paper's implementation\n",
    "    print(res.shape)\n",
    "    res = jnp.dot(params['w'], res) + params['b']\n",
    "    logits = res\n",
    "    one_hot = jax.nn.one_hot(y, 2).reshape(-1, )\n",
    "    loss = optax.softmax_cross_entropy(logits=logits, labels=one_hot)\n",
    "    return loss, logits"
   ]
  },
  {
   "cell_type": "code",
   "execution_count": 49,
   "id": "0195811e",
   "metadata": {},
   "outputs": [],
   "source": [
    "qml_vvag = K.vectorized_value_and_grad(\n",
    "    loss_fn, argnums=0, vectorized_argnums=(1, 2, 3), has_aux=True\n",
    ")\n",
    "qml_vvag = K.jit(qml_vvag)"
   ]
  },
  {
   "cell_type": "code",
   "execution_count": 50,
   "id": "0af3a877",
   "metadata": {},
   "outputs": [
    {
     "name": "stdout",
     "output_type": "stream",
     "text": [
      "(28, 9)\n",
      "(9,)\n",
      "Duration: 69.32015466690063\n"
     ]
    }
   ],
   "source": [
    "dummy_x = jnp.ones([1, max_nodes, 7])\n",
    "dummy_y = jnp.ones([1, 1])\n",
    "dummy_ego_graphs = jnp.ones([1, max_nodes, k, max_ego_nodes]).astype(jnp.int32)\n",
    "\n",
    "s = time()\n",
    "qml_vvag(params, dummy_x, dummy_y, dummy_ego_graphs)\n",
    "e = time()\n",
    "print(\"Duration:\", e-s)"
   ]
  },
  {
   "cell_type": "code",
   "execution_count": 51,
   "id": "a96a91d7",
   "metadata": {},
   "outputs": [
    {
     "name": "stderr",
     "output_type": "stream",
     "text": [
      "Epoch 1:   0%|                                        | 0/12 [00:00<?, ?batch/s]"
     ]
    },
    {
     "name": "stdout",
     "output_type": "stream",
     "text": [
      "(28, 9)\n",
      "(9,)\n"
     ]
    },
    {
     "name": "stderr",
     "output_type": "stream",
     "text": [
      "Epoch 1:  92%|████████████████████████████▍  | 11/12 [01:23<00:00,  1.20batch/s]"
     ]
    },
    {
     "name": "stdout",
     "output_type": "stream",
     "text": [
      "(28, 9)\n",
      "(9,)\n"
     ]
    },
    {
     "name": "stderr",
     "output_type": "stream",
     "text": [
      "Epoch 1: 100%|███████████████████████████████| 12/12 [02:47<00:00, 13.95s/batch]\n"
     ]
    },
    {
     "name": "stdout",
     "output_type": "stream",
     "text": [
      "epoch:   1 train_loss: 0.6799, train_acc: 0.6597 epoch time: 167.3735\n"
     ]
    },
    {
     "name": "stderr",
     "output_type": "stream",
     "text": [
      "Epoch 2: 100%|███████████████████████████████| 12/12 [00:01<00:00,  6.07batch/s]\n"
     ]
    },
    {
     "name": "stdout",
     "output_type": "stream",
     "text": [
      "epoch:   2 train_loss: 0.6591, train_acc: 0.6615 epoch time: 1.9773\n"
     ]
    },
    {
     "name": "stderr",
     "output_type": "stream",
     "text": [
      "Epoch 3: 100%|███████████████████████████████| 12/12 [00:01<00:00,  6.06batch/s]\n"
     ]
    },
    {
     "name": "stdout",
     "output_type": "stream",
     "text": [
      "epoch:   3 train_loss: 0.6446, train_acc: 0.6649 epoch time: 1.9806\n"
     ]
    },
    {
     "name": "stderr",
     "output_type": "stream",
     "text": [
      "Epoch 4: 100%|███████████████████████████████| 12/12 [00:01<00:00,  6.10batch/s]\n"
     ]
    },
    {
     "name": "stdout",
     "output_type": "stream",
     "text": [
      "epoch:   4 train_loss: 0.6400, train_acc: 0.6597 epoch time: 1.9668\n"
     ]
    },
    {
     "name": "stderr",
     "output_type": "stream",
     "text": [
      "Epoch 5: 100%|███████████████████████████████| 12/12 [00:01<00:00,  6.08batch/s]\n"
     ]
    },
    {
     "name": "stdout",
     "output_type": "stream",
     "text": [
      "epoch:   5 train_loss: 0.6288, train_acc: 0.6667 epoch time: 1.9752\n"
     ]
    },
    {
     "name": "stderr",
     "output_type": "stream",
     "text": [
      "Epoch 6: 100%|███████████████████████████████| 12/12 [00:01<00:00,  6.36batch/s]\n"
     ]
    },
    {
     "name": "stdout",
     "output_type": "stream",
     "text": [
      "epoch:   6 train_loss: 0.6267, train_acc: 0.6632 epoch time: 1.8876\n"
     ]
    },
    {
     "name": "stderr",
     "output_type": "stream",
     "text": [
      "Epoch 7: 100%|███████████████████████████████| 12/12 [00:01<00:00,  6.16batch/s]\n"
     ]
    },
    {
     "name": "stdout",
     "output_type": "stream",
     "text": [
      "epoch:   7 train_loss: 0.6226, train_acc: 0.6649 epoch time: 1.9477\n"
     ]
    },
    {
     "name": "stderr",
     "output_type": "stream",
     "text": [
      "Epoch 8: 100%|███████████████████████████████| 12/12 [00:02<00:00,  4.82batch/s]\n"
     ]
    },
    {
     "name": "stdout",
     "output_type": "stream",
     "text": [
      "epoch:   8 train_loss: 0.6200, train_acc: 0.6632 epoch time: 2.4890\n"
     ]
    },
    {
     "name": "stderr",
     "output_type": "stream",
     "text": [
      "Epoch 9: 100%|███████████████████████████████| 12/12 [00:02<00:00,  4.85batch/s]\n"
     ]
    },
    {
     "name": "stdout",
     "output_type": "stream",
     "text": [
      "epoch:   9 train_loss: 0.6132, train_acc: 0.6684 epoch time: 2.4742\n"
     ]
    },
    {
     "name": "stderr",
     "output_type": "stream",
     "text": [
      "Epoch 10: 100%|██████████████████████████████| 12/12 [00:02<00:00,  4.75batch/s]\n"
     ]
    },
    {
     "name": "stdout",
     "output_type": "stream",
     "text": [
      "epoch:  10 train_loss: 0.6096, train_acc: 0.6684 epoch time: 2.5250\n"
     ]
    },
    {
     "name": "stderr",
     "output_type": "stream",
     "text": [
      "Epoch 11: 100%|██████████████████████████████| 12/12 [00:02<00:00,  4.77batch/s]\n"
     ]
    },
    {
     "name": "stdout",
     "output_type": "stream",
     "text": [
      "epoch:  11 train_loss: 0.6106, train_acc: 0.6615 epoch time: 2.5145\n"
     ]
    },
    {
     "name": "stderr",
     "output_type": "stream",
     "text": [
      "Epoch 12: 100%|██████████████████████████████| 12/12 [00:02<00:00,  5.07batch/s]\n"
     ]
    },
    {
     "name": "stdout",
     "output_type": "stream",
     "text": [
      "epoch:  12 train_loss: 0.6042, train_acc: 0.6649 epoch time: 2.3683\n"
     ]
    },
    {
     "name": "stderr",
     "output_type": "stream",
     "text": [
      "Epoch 13: 100%|██████████████████████████████| 12/12 [00:02<00:00,  5.02batch/s]\n"
     ]
    },
    {
     "name": "stdout",
     "output_type": "stream",
     "text": [
      "epoch:  13 train_loss: 0.6000, train_acc: 0.6649 epoch time: 2.3909\n"
     ]
    },
    {
     "name": "stderr",
     "output_type": "stream",
     "text": [
      "Epoch 14: 100%|██████████████████████████████| 12/12 [00:02<00:00,  4.98batch/s]\n"
     ]
    },
    {
     "name": "stdout",
     "output_type": "stream",
     "text": [
      "epoch:  14 train_loss: 0.5943, train_acc: 0.6684 epoch time: 2.4106\n"
     ]
    },
    {
     "name": "stderr",
     "output_type": "stream",
     "text": [
      "Epoch 15: 100%|██████████████████████████████| 12/12 [00:02<00:00,  4.97batch/s]\n"
     ]
    },
    {
     "name": "stdout",
     "output_type": "stream",
     "text": [
      "epoch:  15 train_loss: 0.5894, train_acc: 0.6684 epoch time: 2.4174\n"
     ]
    },
    {
     "name": "stderr",
     "output_type": "stream",
     "text": [
      "Epoch 16: 100%|██████████████████████████████| 12/12 [00:02<00:00,  5.04batch/s]\n"
     ]
    },
    {
     "name": "stdout",
     "output_type": "stream",
     "text": [
      "epoch:  16 train_loss: 0.5870, train_acc: 0.6649 epoch time: 2.3814\n"
     ]
    },
    {
     "name": "stderr",
     "output_type": "stream",
     "text": [
      "Epoch 17: 100%|██████████████████████████████| 12/12 [00:02<00:00,  5.11batch/s]\n"
     ]
    },
    {
     "name": "stdout",
     "output_type": "stream",
     "text": [
      "epoch:  17 train_loss: 0.5799, train_acc: 0.6684 epoch time: 2.3481\n"
     ]
    },
    {
     "name": "stderr",
     "output_type": "stream",
     "text": [
      "Epoch 18: 100%|██████████████████████████████| 12/12 [00:02<00:00,  5.94batch/s]\n"
     ]
    },
    {
     "name": "stdout",
     "output_type": "stream",
     "text": [
      "epoch:  18 train_loss: 0.5794, train_acc: 0.6615 epoch time: 2.0219\n"
     ]
    },
    {
     "name": "stderr",
     "output_type": "stream",
     "text": [
      "Epoch 19: 100%|██████████████████████████████| 12/12 [00:02<00:00,  5.02batch/s]\n"
     ]
    },
    {
     "name": "stdout",
     "output_type": "stream",
     "text": [
      "epoch:  19 train_loss: 0.5712, train_acc: 0.6667 epoch time: 2.3904\n"
     ]
    },
    {
     "name": "stderr",
     "output_type": "stream",
     "text": [
      "Epoch 20: 100%|██████████████████████████████| 12/12 [00:02<00:00,  4.76batch/s]\n"
     ]
    },
    {
     "name": "stdout",
     "output_type": "stream",
     "text": [
      "epoch:  20 train_loss: 0.5676, train_acc: 0.6649 epoch time: 2.5230\n"
     ]
    },
    {
     "name": "stderr",
     "output_type": "stream",
     "text": [
      "Epoch 21: 100%|██████████████████████████████| 12/12 [00:02<00:00,  5.05batch/s]\n"
     ]
    },
    {
     "name": "stdout",
     "output_type": "stream",
     "text": [
      "epoch:  21 train_loss: 0.5612, train_acc: 0.6667 epoch time: 2.3777\n"
     ]
    },
    {
     "name": "stderr",
     "output_type": "stream",
     "text": [
      "Epoch 22: 100%|██████████████████████████████| 12/12 [00:02<00:00,  5.58batch/s]\n"
     ]
    },
    {
     "name": "stdout",
     "output_type": "stream",
     "text": [
      "epoch:  22 train_loss: 0.5572, train_acc: 0.6615 epoch time: 2.1511\n"
     ]
    },
    {
     "name": "stderr",
     "output_type": "stream",
     "text": [
      "Epoch 23: 100%|██████████████████████████████| 12/12 [00:01<00:00,  6.32batch/s]\n"
     ]
    },
    {
     "name": "stdout",
     "output_type": "stream",
     "text": [
      "epoch:  23 train_loss: 0.5532, train_acc: 0.6615 epoch time: 1.8996\n"
     ]
    },
    {
     "name": "stderr",
     "output_type": "stream",
     "text": [
      "Epoch 24: 100%|██████████████████████████████| 12/12 [00:02<00:00,  5.94batch/s]\n"
     ]
    },
    {
     "name": "stdout",
     "output_type": "stream",
     "text": [
      "epoch:  24 train_loss: 0.5439, train_acc: 0.6684 epoch time: 2.0202\n"
     ]
    },
    {
     "name": "stderr",
     "output_type": "stream",
     "text": [
      "Epoch 25: 100%|██████████████████████████████| 12/12 [00:01<00:00,  6.07batch/s]\n"
     ]
    },
    {
     "name": "stdout",
     "output_type": "stream",
     "text": [
      "epoch:  25 train_loss: 0.5413, train_acc: 0.6632 epoch time: 1.9784\n"
     ]
    },
    {
     "name": "stderr",
     "output_type": "stream",
     "text": [
      "Epoch 26: 100%|██████████████████████████████| 12/12 [00:02<00:00,  5.93batch/s]\n"
     ]
    },
    {
     "name": "stdout",
     "output_type": "stream",
     "text": [
      "epoch:  26 train_loss: 0.5341, train_acc: 0.6649 epoch time: 2.0253\n"
     ]
    },
    {
     "name": "stderr",
     "output_type": "stream",
     "text": [
      "Epoch 27: 100%|██████████████████████████████| 12/12 [00:01<00:00,  6.26batch/s]\n"
     ]
    },
    {
     "name": "stdout",
     "output_type": "stream",
     "text": [
      "epoch:  27 train_loss: 0.5282, train_acc: 0.6684 epoch time: 1.9172\n"
     ]
    },
    {
     "name": "stderr",
     "output_type": "stream",
     "text": [
      "Epoch 28: 100%|██████████████████████████████| 12/12 [00:01<00:00,  6.62batch/s]\n"
     ]
    },
    {
     "name": "stdout",
     "output_type": "stream",
     "text": [
      "epoch:  28 train_loss: 0.5228, train_acc: 0.6649 epoch time: 1.8146\n"
     ]
    },
    {
     "name": "stderr",
     "output_type": "stream",
     "text": [
      "Epoch 29: 100%|██████████████████████████████| 12/12 [00:01<00:00,  6.42batch/s]\n"
     ]
    },
    {
     "name": "stdout",
     "output_type": "stream",
     "text": [
      "epoch:  29 train_loss: 0.5181, train_acc: 0.6531 epoch time: 1.8698\n"
     ]
    },
    {
     "name": "stderr",
     "output_type": "stream",
     "text": [
      "Epoch 30: 100%|██████████████████████████████| 12/12 [00:02<00:00,  6.00batch/s]\n"
     ]
    },
    {
     "name": "stdout",
     "output_type": "stream",
     "text": [
      "epoch:  30 train_loss: 0.5104, train_acc: 0.6476 epoch time: 2.0022\n"
     ]
    },
    {
     "name": "stderr",
     "output_type": "stream",
     "text": [
      "Epoch 31: 100%|██████████████████████████████| 12/12 [00:01<00:00,  6.19batch/s]\n"
     ]
    },
    {
     "name": "stdout",
     "output_type": "stream",
     "text": [
      "epoch:  31 train_loss: 0.5071, train_acc: 0.6479 epoch time: 1.9388\n"
     ]
    },
    {
     "name": "stderr",
     "output_type": "stream",
     "text": [
      "Epoch 32: 100%|██████████████████████████████| 12/12 [00:01<00:00,  6.51batch/s]\n"
     ]
    },
    {
     "name": "stdout",
     "output_type": "stream",
     "text": [
      "epoch:  32 train_loss: 0.5019, train_acc: 0.6404 epoch time: 1.8447\n"
     ]
    },
    {
     "name": "stderr",
     "output_type": "stream",
     "text": [
      "Epoch 33: 100%|██████████████████████████████| 12/12 [00:01<00:00,  6.38batch/s]\n"
     ]
    },
    {
     "name": "stdout",
     "output_type": "stream",
     "text": [
      "epoch:  33 train_loss: 0.5000, train_acc: 0.6311 epoch time: 1.8805\n"
     ]
    },
    {
     "name": "stderr",
     "output_type": "stream",
     "text": [
      "Epoch 34: 100%|██████████████████████████████| 12/12 [00:01<00:00,  6.46batch/s]\n"
     ]
    },
    {
     "name": "stdout",
     "output_type": "stream",
     "text": [
      "epoch:  34 train_loss: 0.4946, train_acc: 0.6195 epoch time: 1.8590\n"
     ]
    },
    {
     "name": "stderr",
     "output_type": "stream",
     "text": [
      "Epoch 35: 100%|██████████████████████████████| 12/12 [00:01<00:00,  6.21batch/s]\n"
     ]
    },
    {
     "name": "stdout",
     "output_type": "stream",
     "text": [
      "epoch:  35 train_loss: 0.4908, train_acc: 0.6184 epoch time: 1.9329\n"
     ]
    },
    {
     "name": "stderr",
     "output_type": "stream",
     "text": [
      "Epoch 36: 100%|██████████████████████████████| 12/12 [00:01<00:00,  6.26batch/s]\n"
     ]
    },
    {
     "name": "stdout",
     "output_type": "stream",
     "text": [
      "epoch:  36 train_loss: 0.4813, train_acc: 0.6162 epoch time: 1.9166\n"
     ]
    },
    {
     "name": "stderr",
     "output_type": "stream",
     "text": [
      "Epoch 37: 100%|██████████████████████████████| 12/12 [00:01<00:00,  6.69batch/s]\n"
     ]
    },
    {
     "name": "stdout",
     "output_type": "stream",
     "text": [
      "epoch:  37 train_loss: 0.4763, train_acc: 0.6160 epoch time: 1.7944\n"
     ]
    },
    {
     "name": "stderr",
     "output_type": "stream",
     "text": [
      "Epoch 38: 100%|██████████████████████████████| 12/12 [00:01<00:00,  6.55batch/s]\n"
     ]
    },
    {
     "name": "stdout",
     "output_type": "stream",
     "text": [
      "epoch:  38 train_loss: 0.4719, train_acc: 0.6059 epoch time: 1.8336\n"
     ]
    },
    {
     "name": "stderr",
     "output_type": "stream",
     "text": [
      "Epoch 39: 100%|██████████████████████████████| 12/12 [00:01<00:00,  6.46batch/s]\n"
     ]
    },
    {
     "name": "stdout",
     "output_type": "stream",
     "text": [
      "epoch:  39 train_loss: 0.4669, train_acc: 0.6026 epoch time: 1.8588\n"
     ]
    },
    {
     "name": "stderr",
     "output_type": "stream",
     "text": [
      "Epoch 40: 100%|██████████████████████████████| 12/12 [00:01<00:00,  6.31batch/s]\n"
     ]
    },
    {
     "name": "stdout",
     "output_type": "stream",
     "text": [
      "epoch:  40 train_loss: 0.4641, train_acc: 0.6000 epoch time: 1.9028\n"
     ]
    },
    {
     "name": "stderr",
     "output_type": "stream",
     "text": [
      "Epoch 41: 100%|██████████████████████████████| 12/12 [00:01<00:00,  6.47batch/s]\n"
     ]
    },
    {
     "name": "stdout",
     "output_type": "stream",
     "text": [
      "epoch:  41 train_loss: 0.4601, train_acc: 0.5938 epoch time: 1.8561\n"
     ]
    },
    {
     "name": "stderr",
     "output_type": "stream",
     "text": [
      "Epoch 42: 100%|██████████████████████████████| 12/12 [00:01<00:00,  6.14batch/s]\n"
     ]
    },
    {
     "name": "stdout",
     "output_type": "stream",
     "text": [
      "epoch:  42 train_loss: 0.4561, train_acc: 0.5958 epoch time: 1.9561\n"
     ]
    },
    {
     "name": "stderr",
     "output_type": "stream",
     "text": [
      "Epoch 43: 100%|██████████████████████████████| 12/12 [00:02<00:00,  5.98batch/s]\n"
     ]
    },
    {
     "name": "stdout",
     "output_type": "stream",
     "text": [
      "epoch:  43 train_loss: 0.4532, train_acc: 0.5947 epoch time: 2.0067\n"
     ]
    },
    {
     "name": "stderr",
     "output_type": "stream",
     "text": [
      "Epoch 44: 100%|██████████████████████████████| 12/12 [00:01<00:00,  6.24batch/s]\n"
     ]
    },
    {
     "name": "stdout",
     "output_type": "stream",
     "text": [
      "epoch:  44 train_loss: 0.4491, train_acc: 0.5934 epoch time: 1.9234\n"
     ]
    },
    {
     "name": "stderr",
     "output_type": "stream",
     "text": [
      "Epoch 45: 100%|██████████████████████████████| 12/12 [00:01<00:00,  6.33batch/s]\n"
     ]
    },
    {
     "name": "stdout",
     "output_type": "stream",
     "text": [
      "epoch:  45 train_loss: 0.4446, train_acc: 0.5964 epoch time: 1.8978\n"
     ]
    },
    {
     "name": "stderr",
     "output_type": "stream",
     "text": [
      "Epoch 46: 100%|██████████████████████████████| 12/12 [00:01<00:00,  6.10batch/s]\n"
     ]
    },
    {
     "name": "stdout",
     "output_type": "stream",
     "text": [
      "epoch:  46 train_loss: 0.4394, train_acc: 0.5929 epoch time: 1.9693\n"
     ]
    },
    {
     "name": "stderr",
     "output_type": "stream",
     "text": [
      "Epoch 47: 100%|██████████████████████████████| 12/12 [00:01<00:00,  6.01batch/s]\n"
     ]
    },
    {
     "name": "stdout",
     "output_type": "stream",
     "text": [
      "epoch:  47 train_loss: 0.4405, train_acc: 0.5988 epoch time: 1.9972\n"
     ]
    },
    {
     "name": "stderr",
     "output_type": "stream",
     "text": [
      "Epoch 48: 100%|██████████████████████████████| 12/12 [00:01<00:00,  6.47batch/s]\n"
     ]
    },
    {
     "name": "stdout",
     "output_type": "stream",
     "text": [
      "epoch:  48 train_loss: 0.4329, train_acc: 0.5972 epoch time: 1.8570\n"
     ]
    },
    {
     "name": "stderr",
     "output_type": "stream",
     "text": [
      "Epoch 49: 100%|██████████████████████████████| 12/12 [00:01<00:00,  6.27batch/s]\n"
     ]
    },
    {
     "name": "stdout",
     "output_type": "stream",
     "text": [
      "epoch:  49 train_loss: 0.4346, train_acc: 0.6151 epoch time: 1.9145\n"
     ]
    },
    {
     "name": "stderr",
     "output_type": "stream",
     "text": [
      "Epoch 50: 100%|██████████████████████████████| 12/12 [00:01<00:00,  6.30batch/s]\n"
     ]
    },
    {
     "name": "stdout",
     "output_type": "stream",
     "text": [
      "epoch:  50 train_loss: 0.4295, train_acc: 0.5850 epoch time: 1.9063\n"
     ]
    },
    {
     "name": "stderr",
     "output_type": "stream",
     "text": [
      "Epoch 51: 100%|██████████████████████████████| 12/12 [00:01<00:00,  6.27batch/s]\n"
     ]
    },
    {
     "name": "stdout",
     "output_type": "stream",
     "text": [
      "epoch:  51 train_loss: 0.4273, train_acc: 0.5808 epoch time: 1.9144\n"
     ]
    },
    {
     "name": "stderr",
     "output_type": "stream",
     "text": [
      "Epoch 52: 100%|██████████████████████████████| 12/12 [00:01<00:00,  6.28batch/s]\n"
     ]
    },
    {
     "name": "stdout",
     "output_type": "stream",
     "text": [
      "epoch:  52 train_loss: 0.4232, train_acc: 0.6000 epoch time: 1.9120\n"
     ]
    },
    {
     "name": "stderr",
     "output_type": "stream",
     "text": [
      "Epoch 53: 100%|██████████████████████████████| 12/12 [00:01<00:00,  6.56batch/s]\n"
     ]
    },
    {
     "name": "stdout",
     "output_type": "stream",
     "text": [
      "epoch:  53 train_loss: 0.4178, train_acc: 0.5795 epoch time: 1.8311\n"
     ]
    },
    {
     "name": "stderr",
     "output_type": "stream",
     "text": [
      "Epoch 54: 100%|██████████████████████████████| 12/12 [00:01<00:00,  6.29batch/s]\n"
     ]
    },
    {
     "name": "stdout",
     "output_type": "stream",
     "text": [
      "epoch:  54 train_loss: 0.4181, train_acc: 0.5833 epoch time: 1.9102\n"
     ]
    },
    {
     "name": "stderr",
     "output_type": "stream",
     "text": [
      "Epoch 55: 100%|██████████████████████████████| 12/12 [00:01<00:00,  6.36batch/s]\n"
     ]
    },
    {
     "name": "stdout",
     "output_type": "stream",
     "text": [
      "epoch:  55 train_loss: 0.4145, train_acc: 0.6141 epoch time: 1.8868\n"
     ]
    },
    {
     "name": "stderr",
     "output_type": "stream",
     "text": [
      "Epoch 56: 100%|██████████████████████████████| 12/12 [00:01<00:00,  6.22batch/s]\n"
     ]
    },
    {
     "name": "stdout",
     "output_type": "stream",
     "text": [
      "epoch:  56 train_loss: 0.4148, train_acc: 0.5954 epoch time: 1.9299\n"
     ]
    },
    {
     "name": "stderr",
     "output_type": "stream",
     "text": [
      "Epoch 57: 100%|██████████████████████████████| 12/12 [00:01<00:00,  6.22batch/s]\n"
     ]
    },
    {
     "name": "stdout",
     "output_type": "stream",
     "text": [
      "epoch:  57 train_loss: 0.4138, train_acc: 0.5906 epoch time: 1.9303\n"
     ]
    },
    {
     "name": "stderr",
     "output_type": "stream",
     "text": [
      "Epoch 58: 100%|██████████████████████████████| 12/12 [00:01<00:00,  6.26batch/s]\n"
     ]
    },
    {
     "name": "stdout",
     "output_type": "stream",
     "text": [
      "epoch:  58 train_loss: 0.4107, train_acc: 0.5749 epoch time: 1.9171\n"
     ]
    },
    {
     "name": "stderr",
     "output_type": "stream",
     "text": [
      "Epoch 59: 100%|██████████████████████████████| 12/12 [00:01<00:00,  6.23batch/s]\n"
     ]
    },
    {
     "name": "stdout",
     "output_type": "stream",
     "text": [
      "epoch:  59 train_loss: 0.4066, train_acc: 0.5775 epoch time: 1.9262\n"
     ]
    },
    {
     "name": "stderr",
     "output_type": "stream",
     "text": [
      "Epoch 60: 100%|██████████████████████████████| 12/12 [00:01<00:00,  6.31batch/s]\n"
     ]
    },
    {
     "name": "stdout",
     "output_type": "stream",
     "text": [
      "epoch:  60 train_loss: 0.4068, train_acc: 0.5902 epoch time: 1.9028\n"
     ]
    },
    {
     "name": "stderr",
     "output_type": "stream",
     "text": [
      "Epoch 61: 100%|██████████████████████████████| 12/12 [00:01<00:00,  6.15batch/s]\n"
     ]
    },
    {
     "name": "stdout",
     "output_type": "stream",
     "text": [
      "epoch:  61 train_loss: 0.4025, train_acc: 0.5977 epoch time: 1.9532\n"
     ]
    },
    {
     "name": "stderr",
     "output_type": "stream",
     "text": [
      "Epoch 62: 100%|██████████████████████████████| 12/12 [00:01<00:00,  6.29batch/s]\n"
     ]
    },
    {
     "name": "stdout",
     "output_type": "stream",
     "text": [
      "epoch:  62 train_loss: 0.4003, train_acc: 0.5901 epoch time: 1.9071\n"
     ]
    },
    {
     "name": "stderr",
     "output_type": "stream",
     "text": [
      "Epoch 63: 100%|██████████████████████████████| 12/12 [00:01<00:00,  6.24batch/s]\n"
     ]
    },
    {
     "name": "stdout",
     "output_type": "stream",
     "text": [
      "epoch:  63 train_loss: 0.3981, train_acc: 0.6026 epoch time: 1.9247\n"
     ]
    },
    {
     "name": "stderr",
     "output_type": "stream",
     "text": [
      "Epoch 64: 100%|██████████████████████████████| 12/12 [00:01<00:00,  6.21batch/s]\n"
     ]
    },
    {
     "name": "stdout",
     "output_type": "stream",
     "text": [
      "epoch:  64 train_loss: 0.3994, train_acc: 0.5867 epoch time: 1.9321\n"
     ]
    },
    {
     "name": "stderr",
     "output_type": "stream",
     "text": [
      "Epoch 65: 100%|██████████████████████████████| 12/12 [00:01<00:00,  6.25batch/s]\n"
     ]
    },
    {
     "name": "stdout",
     "output_type": "stream",
     "text": [
      "epoch:  65 train_loss: 0.3991, train_acc: 0.5905 epoch time: 1.9208\n"
     ]
    },
    {
     "name": "stderr",
     "output_type": "stream",
     "text": [
      "Epoch 66: 100%|██████████████████████████████| 12/12 [00:01<00:00,  6.19batch/s]\n"
     ]
    },
    {
     "name": "stdout",
     "output_type": "stream",
     "text": [
      "epoch:  66 train_loss: 0.3935, train_acc: 0.5999 epoch time: 1.9400\n"
     ]
    },
    {
     "name": "stderr",
     "output_type": "stream",
     "text": [
      "Epoch 67: 100%|██████████████████████████████| 12/12 [00:01<00:00,  6.11batch/s]\n"
     ]
    },
    {
     "name": "stdout",
     "output_type": "stream",
     "text": [
      "epoch:  67 train_loss: 0.3946, train_acc: 0.5889 epoch time: 1.9631\n"
     ]
    },
    {
     "name": "stderr",
     "output_type": "stream",
     "text": [
      "Epoch 68: 100%|██████████████████████████████| 12/12 [00:02<00:00,  5.79batch/s]\n"
     ]
    },
    {
     "name": "stdout",
     "output_type": "stream",
     "text": [
      "epoch:  68 train_loss: 0.3914, train_acc: 0.5972 epoch time: 2.0727\n"
     ]
    },
    {
     "name": "stderr",
     "output_type": "stream",
     "text": [
      "Epoch 69: 100%|██████████████████████████████| 12/12 [00:01<00:00,  6.20batch/s]\n"
     ]
    },
    {
     "name": "stdout",
     "output_type": "stream",
     "text": [
      "epoch:  69 train_loss: 0.3899, train_acc: 0.5921 epoch time: 1.9363\n"
     ]
    },
    {
     "name": "stderr",
     "output_type": "stream",
     "text": [
      "Epoch 70: 100%|██████████████████████████████| 12/12 [00:01<00:00,  6.49batch/s]\n"
     ]
    },
    {
     "name": "stdout",
     "output_type": "stream",
     "text": [
      "epoch:  70 train_loss: 0.3898, train_acc: 0.5845 epoch time: 1.8505\n"
     ]
    },
    {
     "name": "stderr",
     "output_type": "stream",
     "text": [
      "Epoch 71: 100%|██████████████████████████████| 12/12 [00:01<00:00,  6.70batch/s]\n"
     ]
    },
    {
     "name": "stdout",
     "output_type": "stream",
     "text": [
      "epoch:  71 train_loss: 0.3874, train_acc: 0.5888 epoch time: 1.7931\n"
     ]
    },
    {
     "name": "stderr",
     "output_type": "stream",
     "text": [
      "Epoch 72: 100%|██████████████████████████████| 12/12 [00:01<00:00,  6.52batch/s]\n"
     ]
    },
    {
     "name": "stdout",
     "output_type": "stream",
     "text": [
      "epoch:  72 train_loss: 0.3867, train_acc: 0.5909 epoch time: 1.8412\n"
     ]
    },
    {
     "name": "stderr",
     "output_type": "stream",
     "text": [
      "Epoch 73: 100%|██████████████████████████████| 12/12 [00:01<00:00,  6.63batch/s]\n"
     ]
    },
    {
     "name": "stdout",
     "output_type": "stream",
     "text": [
      "epoch:  73 train_loss: 0.3868, train_acc: 0.5953 epoch time: 1.8103\n"
     ]
    },
    {
     "name": "stderr",
     "output_type": "stream",
     "text": [
      "Epoch 74: 100%|██████████████████████████████| 12/12 [00:01<00:00,  6.66batch/s]\n"
     ]
    },
    {
     "name": "stdout",
     "output_type": "stream",
     "text": [
      "epoch:  74 train_loss: 0.3843, train_acc: 0.6000 epoch time: 1.8013\n"
     ]
    },
    {
     "name": "stderr",
     "output_type": "stream",
     "text": [
      "Epoch 75: 100%|██████████████████████████████| 12/12 [00:01<00:00,  6.75batch/s]\n"
     ]
    },
    {
     "name": "stdout",
     "output_type": "stream",
     "text": [
      "epoch:  75 train_loss: 0.3819, train_acc: 0.5782 epoch time: 1.7791\n"
     ]
    },
    {
     "name": "stderr",
     "output_type": "stream",
     "text": [
      "Epoch 76: 100%|██████████████████████████████| 12/12 [00:01<00:00,  6.68batch/s]\n"
     ]
    },
    {
     "name": "stdout",
     "output_type": "stream",
     "text": [
      "epoch:  76 train_loss: 0.3844, train_acc: 0.5877 epoch time: 1.7959\n"
     ]
    },
    {
     "name": "stderr",
     "output_type": "stream",
     "text": [
      "Epoch 77: 100%|██████████████████████████████| 12/12 [00:01<00:00,  6.62batch/s]\n"
     ]
    },
    {
     "name": "stdout",
     "output_type": "stream",
     "text": [
      "epoch:  77 train_loss: 0.3826, train_acc: 0.5816 epoch time: 1.8138\n"
     ]
    },
    {
     "name": "stderr",
     "output_type": "stream",
     "text": [
      "Epoch 78: 100%|██████████████████████████████| 12/12 [00:01<00:00,  6.67batch/s]\n"
     ]
    },
    {
     "name": "stdout",
     "output_type": "stream",
     "text": [
      "epoch:  78 train_loss: 0.3790, train_acc: 0.5872 epoch time: 1.7997\n"
     ]
    },
    {
     "name": "stderr",
     "output_type": "stream",
     "text": [
      "Epoch 79: 100%|██████████████████████████████| 12/12 [00:01<00:00,  6.58batch/s]\n"
     ]
    },
    {
     "name": "stdout",
     "output_type": "stream",
     "text": [
      "epoch:  79 train_loss: 0.3813, train_acc: 0.5953 epoch time: 1.8248\n"
     ]
    },
    {
     "name": "stderr",
     "output_type": "stream",
     "text": [
      "Epoch 80: 100%|██████████████████████████████| 12/12 [00:01<00:00,  6.78batch/s]\n"
     ]
    },
    {
     "name": "stdout",
     "output_type": "stream",
     "text": [
      "epoch:  80 train_loss: 0.3811, train_acc: 0.5979 epoch time: 1.7714\n"
     ]
    },
    {
     "name": "stderr",
     "output_type": "stream",
     "text": [
      "Epoch 81: 100%|██████████████████████████████| 12/12 [00:01<00:00,  6.26batch/s]\n"
     ]
    },
    {
     "name": "stdout",
     "output_type": "stream",
     "text": [
      "epoch:  81 train_loss: 0.3801, train_acc: 0.5792 epoch time: 1.9188\n"
     ]
    },
    {
     "name": "stderr",
     "output_type": "stream",
     "text": [
      "Epoch 82: 100%|██████████████████████████████| 12/12 [00:02<00:00,  5.81batch/s]\n"
     ]
    },
    {
     "name": "stdout",
     "output_type": "stream",
     "text": [
      "epoch:  82 train_loss: 0.3772, train_acc: 0.6057 epoch time: 2.0653\n"
     ]
    },
    {
     "name": "stderr",
     "output_type": "stream",
     "text": [
      "Epoch 83: 100%|██████████████████████████████| 12/12 [00:01<00:00,  6.10batch/s]\n"
     ]
    },
    {
     "name": "stdout",
     "output_type": "stream",
     "text": [
      "epoch:  83 train_loss: 0.3773, train_acc: 0.5922 epoch time: 1.9668\n"
     ]
    },
    {
     "name": "stderr",
     "output_type": "stream",
     "text": [
      "Epoch 84: 100%|██████████████████████████████| 12/12 [00:01<00:00,  6.29batch/s]\n"
     ]
    },
    {
     "name": "stdout",
     "output_type": "stream",
     "text": [
      "epoch:  84 train_loss: 0.3784, train_acc: 0.6014 epoch time: 1.9098\n"
     ]
    },
    {
     "name": "stderr",
     "output_type": "stream",
     "text": [
      "Epoch 85: 100%|██████████████████████████████| 12/12 [00:01<00:00,  6.45batch/s]\n"
     ]
    },
    {
     "name": "stdout",
     "output_type": "stream",
     "text": [
      "epoch:  85 train_loss: 0.3733, train_acc: 0.5864 epoch time: 1.8620\n"
     ]
    },
    {
     "name": "stderr",
     "output_type": "stream",
     "text": [
      "Epoch 86: 100%|██████████████████████████████| 12/12 [00:01<00:00,  6.58batch/s]\n"
     ]
    },
    {
     "name": "stdout",
     "output_type": "stream",
     "text": [
      "epoch:  86 train_loss: 0.3743, train_acc: 0.5964 epoch time: 1.8252\n"
     ]
    },
    {
     "name": "stderr",
     "output_type": "stream",
     "text": [
      "Epoch 87: 100%|██████████████████████████████| 12/12 [00:01<00:00,  6.51batch/s]\n"
     ]
    },
    {
     "name": "stdout",
     "output_type": "stream",
     "text": [
      "epoch:  87 train_loss: 0.3753, train_acc: 0.5956 epoch time: 1.8432\n"
     ]
    },
    {
     "name": "stderr",
     "output_type": "stream",
     "text": [
      "Epoch 88: 100%|██████████████████████████████| 12/12 [00:01<00:00,  6.51batch/s]\n"
     ]
    },
    {
     "name": "stdout",
     "output_type": "stream",
     "text": [
      "epoch:  88 train_loss: 0.3726, train_acc: 0.5710 epoch time: 1.8449\n"
     ]
    },
    {
     "name": "stderr",
     "output_type": "stream",
     "text": [
      "Epoch 89: 100%|██████████████████████████████| 12/12 [00:01<00:00,  6.38batch/s]\n"
     ]
    },
    {
     "name": "stdout",
     "output_type": "stream",
     "text": [
      "epoch:  89 train_loss: 0.3734, train_acc: 0.5815 epoch time: 1.8824\n"
     ]
    },
    {
     "name": "stderr",
     "output_type": "stream",
     "text": [
      "Epoch 90: 100%|██████████████████████████████| 12/12 [00:01<00:00,  6.16batch/s]\n"
     ]
    },
    {
     "name": "stdout",
     "output_type": "stream",
     "text": [
      "epoch:  90 train_loss: 0.3746, train_acc: 0.5853 epoch time: 1.9479\n"
     ]
    },
    {
     "name": "stderr",
     "output_type": "stream",
     "text": [
      "Epoch 91: 100%|██████████████████████████████| 12/12 [00:01<00:00,  6.08batch/s]\n"
     ]
    },
    {
     "name": "stdout",
     "output_type": "stream",
     "text": [
      "epoch:  91 train_loss: 0.3710, train_acc: 0.5876 epoch time: 1.9731\n"
     ]
    },
    {
     "name": "stderr",
     "output_type": "stream",
     "text": [
      "Epoch 92: 100%|██████████████████████████████| 12/12 [00:01<00:00,  6.17batch/s]\n"
     ]
    },
    {
     "name": "stdout",
     "output_type": "stream",
     "text": [
      "epoch:  92 train_loss: 0.3712, train_acc: 0.5781 epoch time: 1.9456\n"
     ]
    },
    {
     "name": "stderr",
     "output_type": "stream",
     "text": [
      "Epoch 93: 100%|██████████████████████████████| 12/12 [00:01<00:00,  6.20batch/s]\n"
     ]
    },
    {
     "name": "stdout",
     "output_type": "stream",
     "text": [
      "epoch:  93 train_loss: 0.3687, train_acc: 0.5909 epoch time: 1.9355\n"
     ]
    },
    {
     "name": "stderr",
     "output_type": "stream",
     "text": [
      "Epoch 94: 100%|██████████████████████████████| 12/12 [00:01<00:00,  6.46batch/s]\n"
     ]
    },
    {
     "name": "stdout",
     "output_type": "stream",
     "text": [
      "epoch:  94 train_loss: 0.3678, train_acc: 0.5811 epoch time: 1.8598\n"
     ]
    },
    {
     "name": "stderr",
     "output_type": "stream",
     "text": [
      "Epoch 95: 100%|██████████████████████████████| 12/12 [00:01<00:00,  6.25batch/s]\n"
     ]
    },
    {
     "name": "stdout",
     "output_type": "stream",
     "text": [
      "epoch:  95 train_loss: 0.3700, train_acc: 0.5744 epoch time: 1.9217\n"
     ]
    },
    {
     "name": "stderr",
     "output_type": "stream",
     "text": [
      "Epoch 96: 100%|██████████████████████████████| 12/12 [00:01<00:00,  6.31batch/s]\n"
     ]
    },
    {
     "name": "stdout",
     "output_type": "stream",
     "text": [
      "epoch:  96 train_loss: 0.3698, train_acc: 0.5938 epoch time: 1.9013\n"
     ]
    },
    {
     "name": "stderr",
     "output_type": "stream",
     "text": [
      "Epoch 97: 100%|██████████████████████████████| 12/12 [00:01<00:00,  6.41batch/s]\n"
     ]
    },
    {
     "name": "stdout",
     "output_type": "stream",
     "text": [
      "epoch:  97 train_loss: 0.3729, train_acc: 0.5724 epoch time: 1.8716\n"
     ]
    },
    {
     "name": "stderr",
     "output_type": "stream",
     "text": [
      "Epoch 98: 100%|██████████████████████████████| 12/12 [00:01<00:00,  6.38batch/s]\n"
     ]
    },
    {
     "name": "stdout",
     "output_type": "stream",
     "text": [
      "epoch:  98 train_loss: 0.3658, train_acc: 0.6135 epoch time: 1.8831\n"
     ]
    },
    {
     "name": "stderr",
     "output_type": "stream",
     "text": [
      "Epoch 99: 100%|██████████████████████████████| 12/12 [00:01<00:00,  6.45batch/s]\n"
     ]
    },
    {
     "name": "stdout",
     "output_type": "stream",
     "text": [
      "epoch:  99 train_loss: 0.3692, train_acc: 0.5894 epoch time: 1.8619\n"
     ]
    },
    {
     "name": "stderr",
     "output_type": "stream",
     "text": [
      "Epoch 100: 100%|█████████████████████████████| 12/12 [00:01<00:00,  6.19batch/s]\n"
     ]
    },
    {
     "name": "stdout",
     "output_type": "stream",
     "text": [
      "epoch: 100 train_loss: 0.3655, train_acc: 0.5838 epoch time: 1.9393\n"
     ]
    },
    {
     "name": "stderr",
     "output_type": "stream",
     "text": [
      "Epoch 101: 100%|█████████████████████████████| 12/12 [00:01<00:00,  6.25batch/s]\n"
     ]
    },
    {
     "name": "stdout",
     "output_type": "stream",
     "text": [
      "epoch: 101 train_loss: 0.3642, train_acc: 0.6005 epoch time: 1.9192\n"
     ]
    },
    {
     "name": "stderr",
     "output_type": "stream",
     "text": [
      "Epoch 102: 100%|█████████████████████████████| 12/12 [00:01<00:00,  6.27batch/s]\n"
     ]
    },
    {
     "name": "stdout",
     "output_type": "stream",
     "text": [
      "epoch: 102 train_loss: 0.3645, train_acc: 0.5875 epoch time: 1.9144\n"
     ]
    },
    {
     "name": "stderr",
     "output_type": "stream",
     "text": [
      "Epoch 103: 100%|█████████████████████████████| 12/12 [00:01<00:00,  6.10batch/s]\n"
     ]
    },
    {
     "name": "stdout",
     "output_type": "stream",
     "text": [
      "epoch: 103 train_loss: 0.3659, train_acc: 0.5822 epoch time: 1.9679\n"
     ]
    },
    {
     "name": "stderr",
     "output_type": "stream",
     "text": [
      "Epoch 104: 100%|█████████████████████████████| 12/12 [00:02<00:00,  5.81batch/s]\n"
     ]
    },
    {
     "name": "stdout",
     "output_type": "stream",
     "text": [
      "epoch: 104 train_loss: 0.3636, train_acc: 0.5924 epoch time: 2.0662\n"
     ]
    },
    {
     "name": "stderr",
     "output_type": "stream",
     "text": [
      "Epoch 105: 100%|█████████████████████████████| 12/12 [00:02<00:00,  5.92batch/s]\n"
     ]
    },
    {
     "name": "stdout",
     "output_type": "stream",
     "text": [
      "epoch: 105 train_loss: 0.3617, train_acc: 0.6070 epoch time: 2.0267\n"
     ]
    },
    {
     "name": "stderr",
     "output_type": "stream",
     "text": [
      "Epoch 106: 100%|█████████████████████████████| 12/12 [00:01<00:00,  6.12batch/s]\n"
     ]
    },
    {
     "name": "stdout",
     "output_type": "stream",
     "text": [
      "epoch: 106 train_loss: 0.3606, train_acc: 0.5951 epoch time: 1.9604\n"
     ]
    },
    {
     "name": "stderr",
     "output_type": "stream",
     "text": [
      "Epoch 107: 100%|█████████████████████████████| 12/12 [00:02<00:00,  5.72batch/s]\n"
     ]
    },
    {
     "name": "stdout",
     "output_type": "stream",
     "text": [
      "epoch: 107 train_loss: 0.3664, train_acc: 0.5770 epoch time: 2.0978\n"
     ]
    },
    {
     "name": "stderr",
     "output_type": "stream",
     "text": [
      "Epoch 108: 100%|█████████████████████████████| 12/12 [00:01<00:00,  6.00batch/s]\n"
     ]
    },
    {
     "name": "stdout",
     "output_type": "stream",
     "text": [
      "epoch: 108 train_loss: 0.3604, train_acc: 0.5803 epoch time: 1.9992\n"
     ]
    },
    {
     "name": "stderr",
     "output_type": "stream",
     "text": [
      "Epoch 109: 100%|█████████████████████████████| 12/12 [00:02<00:00,  5.96batch/s]\n"
     ]
    },
    {
     "name": "stdout",
     "output_type": "stream",
     "text": [
      "epoch: 109 train_loss: 0.3605, train_acc: 0.5896 epoch time: 2.0143\n"
     ]
    },
    {
     "name": "stderr",
     "output_type": "stream",
     "text": [
      "Epoch 110: 100%|█████████████████████████████| 12/12 [00:02<00:00,  5.76batch/s]\n"
     ]
    },
    {
     "name": "stdout",
     "output_type": "stream",
     "text": [
      "epoch: 110 train_loss: 0.3632, train_acc: 0.5918 epoch time: 2.0850\n"
     ]
    },
    {
     "name": "stderr",
     "output_type": "stream",
     "text": [
      "Epoch 111: 100%|█████████████████████████████| 12/12 [00:01<00:00,  6.32batch/s]\n"
     ]
    },
    {
     "name": "stdout",
     "output_type": "stream",
     "text": [
      "epoch: 111 train_loss: 0.3565, train_acc: 0.5905 epoch time: 1.8984\n"
     ]
    },
    {
     "name": "stderr",
     "output_type": "stream",
     "text": [
      "Epoch 112: 100%|█████████████████████████████| 12/12 [00:01<00:00,  6.24batch/s]\n"
     ]
    },
    {
     "name": "stdout",
     "output_type": "stream",
     "text": [
      "epoch: 112 train_loss: 0.3628, train_acc: 0.5964 epoch time: 1.9252\n"
     ]
    },
    {
     "name": "stderr",
     "output_type": "stream",
     "text": [
      "Epoch 113: 100%|█████████████████████████████| 12/12 [00:01<00:00,  6.40batch/s]\n"
     ]
    },
    {
     "name": "stdout",
     "output_type": "stream",
     "text": [
      "epoch: 113 train_loss: 0.3575, train_acc: 0.5838 epoch time: 1.8767\n"
     ]
    },
    {
     "name": "stderr",
     "output_type": "stream",
     "text": [
      "Epoch 114: 100%|█████████████████████████████| 12/12 [00:01<00:00,  6.49batch/s]\n"
     ]
    },
    {
     "name": "stdout",
     "output_type": "stream",
     "text": [
      "epoch: 114 train_loss: 0.3590, train_acc: 0.5849 epoch time: 1.8513\n"
     ]
    },
    {
     "name": "stderr",
     "output_type": "stream",
     "text": [
      "Epoch 115: 100%|█████████████████████████████| 12/12 [00:01<00:00,  6.10batch/s]\n"
     ]
    },
    {
     "name": "stdout",
     "output_type": "stream",
     "text": [
      "epoch: 115 train_loss: 0.3577, train_acc: 0.5762 epoch time: 1.9688\n"
     ]
    },
    {
     "name": "stderr",
     "output_type": "stream",
     "text": [
      "Epoch 116: 100%|█████████████████████████████| 12/12 [00:02<00:00,  5.81batch/s]\n"
     ]
    },
    {
     "name": "stdout",
     "output_type": "stream",
     "text": [
      "epoch: 116 train_loss: 0.3559, train_acc: 0.5778 epoch time: 2.0649\n"
     ]
    },
    {
     "name": "stderr",
     "output_type": "stream",
     "text": [
      "Epoch 117: 100%|█████████████████████████████| 12/12 [00:02<00:00,  5.90batch/s]\n"
     ]
    },
    {
     "name": "stdout",
     "output_type": "stream",
     "text": [
      "epoch: 117 train_loss: 0.3632, train_acc: 0.5939 epoch time: 2.0351\n"
     ]
    },
    {
     "name": "stderr",
     "output_type": "stream",
     "text": [
      "Epoch 118: 100%|█████████████████████████████| 12/12 [00:01<00:00,  6.36batch/s]\n"
     ]
    },
    {
     "name": "stdout",
     "output_type": "stream",
     "text": [
      "epoch: 118 train_loss: 0.3565, train_acc: 0.5993 epoch time: 1.8863\n"
     ]
    },
    {
     "name": "stderr",
     "output_type": "stream",
     "text": [
      "Epoch 119: 100%|█████████████████████████████| 12/12 [00:02<00:00,  5.70batch/s]\n"
     ]
    },
    {
     "name": "stdout",
     "output_type": "stream",
     "text": [
      "epoch: 119 train_loss: 0.3556, train_acc: 0.5837 epoch time: 2.1068\n"
     ]
    },
    {
     "name": "stderr",
     "output_type": "stream",
     "text": [
      "Epoch 120: 100%|█████████████████████████████| 12/12 [00:01<00:00,  6.13batch/s]\n"
     ]
    },
    {
     "name": "stdout",
     "output_type": "stream",
     "text": [
      "epoch: 120 train_loss: 0.3593, train_acc: 0.5730 epoch time: 1.9573\n"
     ]
    },
    {
     "name": "stderr",
     "output_type": "stream",
     "text": [
      "Epoch 121: 100%|█████████████████████████████| 12/12 [00:01<00:00,  6.32batch/s]\n"
     ]
    },
    {
     "name": "stdout",
     "output_type": "stream",
     "text": [
      "epoch: 121 train_loss: 0.3541, train_acc: 0.5846 epoch time: 1.9005\n"
     ]
    },
    {
     "name": "stderr",
     "output_type": "stream",
     "text": [
      "Epoch 122: 100%|█████████████████████████████| 12/12 [00:01<00:00,  6.26batch/s]\n"
     ]
    },
    {
     "name": "stdout",
     "output_type": "stream",
     "text": [
      "epoch: 122 train_loss: 0.3541, train_acc: 0.5829 epoch time: 1.9187\n"
     ]
    },
    {
     "name": "stderr",
     "output_type": "stream",
     "text": [
      "Epoch 123: 100%|█████████████████████████████| 12/12 [00:01<00:00,  6.19batch/s]\n"
     ]
    },
    {
     "name": "stdout",
     "output_type": "stream",
     "text": [
      "epoch: 123 train_loss: 0.3587, train_acc: 0.5823 epoch time: 1.9384\n"
     ]
    },
    {
     "name": "stderr",
     "output_type": "stream",
     "text": [
      "Epoch 124: 100%|█████████████████████████████| 12/12 [00:01<00:00,  6.02batch/s]\n"
     ]
    },
    {
     "name": "stdout",
     "output_type": "stream",
     "text": [
      "epoch: 124 train_loss: 0.3555, train_acc: 0.5762 epoch time: 1.9944\n"
     ]
    },
    {
     "name": "stderr",
     "output_type": "stream",
     "text": [
      "Epoch 125: 100%|█████████████████████████████| 12/12 [00:01<00:00,  6.01batch/s]\n"
     ]
    },
    {
     "name": "stdout",
     "output_type": "stream",
     "text": [
      "epoch: 125 train_loss: 0.3556, train_acc: 0.6035 epoch time: 1.9989\n"
     ]
    },
    {
     "name": "stderr",
     "output_type": "stream",
     "text": [
      "Epoch 126: 100%|█████████████████████████████| 12/12 [00:02<00:00,  5.69batch/s]\n"
     ]
    },
    {
     "name": "stdout",
     "output_type": "stream",
     "text": [
      "epoch: 126 train_loss: 0.3564, train_acc: 0.5951 epoch time: 2.1102\n"
     ]
    },
    {
     "name": "stderr",
     "output_type": "stream",
     "text": [
      "Epoch 127: 100%|█████████████████████████████| 12/12 [00:01<00:00,  6.41batch/s]\n"
     ]
    },
    {
     "name": "stdout",
     "output_type": "stream",
     "text": [
      "epoch: 127 train_loss: 0.3589, train_acc: 0.5796 epoch time: 1.8719\n"
     ]
    },
    {
     "name": "stderr",
     "output_type": "stream",
     "text": [
      "Epoch 128: 100%|█████████████████████████████| 12/12 [00:01<00:00,  6.39batch/s]\n"
     ]
    },
    {
     "name": "stdout",
     "output_type": "stream",
     "text": [
      "epoch: 128 train_loss: 0.3548, train_acc: 0.5752 epoch time: 1.8786\n"
     ]
    },
    {
     "name": "stderr",
     "output_type": "stream",
     "text": [
      "Epoch 129: 100%|█████████████████████████████| 12/12 [00:01<00:00,  6.43batch/s]\n"
     ]
    },
    {
     "name": "stdout",
     "output_type": "stream",
     "text": [
      "epoch: 129 train_loss: 0.3547, train_acc: 0.5849 epoch time: 1.8668\n"
     ]
    },
    {
     "name": "stderr",
     "output_type": "stream",
     "text": [
      "Epoch 130: 100%|█████████████████████████████| 12/12 [00:01<00:00,  6.07batch/s]\n"
     ]
    },
    {
     "name": "stdout",
     "output_type": "stream",
     "text": [
      "epoch: 130 train_loss: 0.3531, train_acc: 0.5770 epoch time: 1.9793\n"
     ]
    },
    {
     "name": "stderr",
     "output_type": "stream",
     "text": [
      "Epoch 131: 100%|█████████████████████████████| 12/12 [00:02<00:00,  5.74batch/s]\n"
     ]
    },
    {
     "name": "stdout",
     "output_type": "stream",
     "text": [
      "epoch: 131 train_loss: 0.3516, train_acc: 0.5804 epoch time: 2.0912\n"
     ]
    },
    {
     "name": "stderr",
     "output_type": "stream",
     "text": [
      "Epoch 132: 100%|█████████████████████████████| 12/12 [00:01<00:00,  6.43batch/s]\n"
     ]
    },
    {
     "name": "stdout",
     "output_type": "stream",
     "text": [
      "epoch: 132 train_loss: 0.3536, train_acc: 0.5827 epoch time: 1.8673\n"
     ]
    },
    {
     "name": "stderr",
     "output_type": "stream",
     "text": [
      "Epoch 133: 100%|█████████████████████████████| 12/12 [00:01<00:00,  6.33batch/s]\n"
     ]
    },
    {
     "name": "stdout",
     "output_type": "stream",
     "text": [
      "epoch: 133 train_loss: 0.3475, train_acc: 0.5947 epoch time: 1.8968\n"
     ]
    },
    {
     "name": "stderr",
     "output_type": "stream",
     "text": [
      "Epoch 134: 100%|█████████████████████████████| 12/12 [00:01<00:00,  6.42batch/s]\n"
     ]
    },
    {
     "name": "stdout",
     "output_type": "stream",
     "text": [
      "epoch: 134 train_loss: 0.3536, train_acc: 0.5928 epoch time: 1.8698\n"
     ]
    },
    {
     "name": "stderr",
     "output_type": "stream",
     "text": [
      "Epoch 135: 100%|█████████████████████████████| 12/12 [00:01<00:00,  6.54batch/s]\n"
     ]
    },
    {
     "name": "stdout",
     "output_type": "stream",
     "text": [
      "epoch: 135 train_loss: 0.3547, train_acc: 0.5905 epoch time: 1.8350\n"
     ]
    },
    {
     "name": "stderr",
     "output_type": "stream",
     "text": [
      "Epoch 136: 100%|█████████████████████████████| 12/12 [00:02<00:00,  5.84batch/s]\n"
     ]
    },
    {
     "name": "stdout",
     "output_type": "stream",
     "text": [
      "epoch: 136 train_loss: 0.3506, train_acc: 0.5872 epoch time: 2.0553\n"
     ]
    },
    {
     "name": "stderr",
     "output_type": "stream",
     "text": [
      "Epoch 137: 100%|█████████████████████████████| 12/12 [00:01<00:00,  6.22batch/s]\n"
     ]
    },
    {
     "name": "stdout",
     "output_type": "stream",
     "text": [
      "epoch: 137 train_loss: 0.3504, train_acc: 0.5807 epoch time: 1.9293\n"
     ]
    },
    {
     "name": "stderr",
     "output_type": "stream",
     "text": [
      "Epoch 138: 100%|█████████████████████████████| 12/12 [00:01<00:00,  6.29batch/s]\n"
     ]
    },
    {
     "name": "stdout",
     "output_type": "stream",
     "text": [
      "epoch: 138 train_loss: 0.3530, train_acc: 0.5828 epoch time: 1.9090\n"
     ]
    },
    {
     "name": "stderr",
     "output_type": "stream",
     "text": [
      "Epoch 139: 100%|█████████████████████████████| 12/12 [00:01<00:00,  6.78batch/s]\n"
     ]
    },
    {
     "name": "stdout",
     "output_type": "stream",
     "text": [
      "epoch: 139 train_loss: 0.3480, train_acc: 0.5803 epoch time: 1.7718\n"
     ]
    },
    {
     "name": "stderr",
     "output_type": "stream",
     "text": [
      "Epoch 140: 100%|█████████████████████████████| 12/12 [00:01<00:00,  6.67batch/s]\n"
     ]
    },
    {
     "name": "stdout",
     "output_type": "stream",
     "text": [
      "epoch: 140 train_loss: 0.3481, train_acc: 0.5831 epoch time: 1.7990\n"
     ]
    },
    {
     "name": "stderr",
     "output_type": "stream",
     "text": [
      "Epoch 141: 100%|█████████████████████████████| 12/12 [00:01<00:00,  6.33batch/s]\n"
     ]
    },
    {
     "name": "stdout",
     "output_type": "stream",
     "text": [
      "epoch: 141 train_loss: 0.3466, train_acc: 0.5782 epoch time: 1.8973\n"
     ]
    },
    {
     "name": "stderr",
     "output_type": "stream",
     "text": [
      "Epoch 142: 100%|█████████████████████████████| 12/12 [00:02<00:00,  5.73batch/s]\n"
     ]
    },
    {
     "name": "stdout",
     "output_type": "stream",
     "text": [
      "epoch: 142 train_loss: 0.3517, train_acc: 0.6035 epoch time: 2.0936\n"
     ]
    },
    {
     "name": "stderr",
     "output_type": "stream",
     "text": [
      "Epoch 143: 100%|█████████████████████████████| 12/12 [00:01<00:00,  6.28batch/s]\n"
     ]
    },
    {
     "name": "stdout",
     "output_type": "stream",
     "text": [
      "epoch: 143 train_loss: 0.3468, train_acc: 0.5854 epoch time: 1.9117\n"
     ]
    },
    {
     "name": "stderr",
     "output_type": "stream",
     "text": [
      "Epoch 144: 100%|█████████████████████████████| 12/12 [00:01<00:00,  6.20batch/s]\n"
     ]
    },
    {
     "name": "stdout",
     "output_type": "stream",
     "text": [
      "epoch: 144 train_loss: 0.3491, train_acc: 0.5993 epoch time: 1.9368\n"
     ]
    },
    {
     "name": "stderr",
     "output_type": "stream",
     "text": [
      "Epoch 145: 100%|█████████████████████████████| 12/12 [00:02<00:00,  5.88batch/s]\n"
     ]
    },
    {
     "name": "stdout",
     "output_type": "stream",
     "text": [
      "epoch: 145 train_loss: 0.3448, train_acc: 0.5886 epoch time: 2.0433\n"
     ]
    },
    {
     "name": "stderr",
     "output_type": "stream",
     "text": [
      "Epoch 146: 100%|█████████████████████████████| 12/12 [00:02<00:00,  5.31batch/s]\n"
     ]
    },
    {
     "name": "stdout",
     "output_type": "stream",
     "text": [
      "epoch: 146 train_loss: 0.3485, train_acc: 0.5888 epoch time: 2.2621\n"
     ]
    },
    {
     "name": "stderr",
     "output_type": "stream",
     "text": [
      "Epoch 147: 100%|█████████████████████████████| 12/12 [00:02<00:00,  5.65batch/s]\n"
     ]
    },
    {
     "name": "stdout",
     "output_type": "stream",
     "text": [
      "epoch: 147 train_loss: 0.3467, train_acc: 0.5827 epoch time: 2.1244\n"
     ]
    },
    {
     "name": "stderr",
     "output_type": "stream",
     "text": [
      "Epoch 148: 100%|█████████████████████████████| 12/12 [00:01<00:00,  6.23batch/s]\n"
     ]
    },
    {
     "name": "stdout",
     "output_type": "stream",
     "text": [
      "epoch: 148 train_loss: 0.3535, train_acc: 0.5907 epoch time: 1.9271\n"
     ]
    },
    {
     "name": "stderr",
     "output_type": "stream",
     "text": [
      "Epoch 149: 100%|█████████████████████████████| 12/12 [00:01<00:00,  6.46batch/s]\n"
     ]
    },
    {
     "name": "stdout",
     "output_type": "stream",
     "text": [
      "epoch: 149 train_loss: 0.3480, train_acc: 0.5859 epoch time: 1.8590\n"
     ]
    },
    {
     "name": "stderr",
     "output_type": "stream",
     "text": [
      "Epoch 150: 100%|█████████████████████████████| 12/12 [00:01<00:00,  6.49batch/s]\n"
     ]
    },
    {
     "name": "stdout",
     "output_type": "stream",
     "text": [
      "epoch: 150 train_loss: 0.3454, train_acc: 0.5908 epoch time: 1.8510\n"
     ]
    },
    {
     "name": "stderr",
     "output_type": "stream",
     "text": [
      "Epoch 151: 100%|█████████████████████████████| 12/12 [00:01<00:00,  6.39batch/s]\n"
     ]
    },
    {
     "name": "stdout",
     "output_type": "stream",
     "text": [
      "epoch: 151 train_loss: 0.3495, train_acc: 0.5895 epoch time: 1.8792\n"
     ]
    },
    {
     "name": "stderr",
     "output_type": "stream",
     "text": [
      "Epoch 152: 100%|█████████████████████████████| 12/12 [00:01<00:00,  6.02batch/s]\n"
     ]
    },
    {
     "name": "stdout",
     "output_type": "stream",
     "text": [
      "epoch: 152 train_loss: 0.3430, train_acc: 0.5801 epoch time: 1.9950\n"
     ]
    },
    {
     "name": "stderr",
     "output_type": "stream",
     "text": [
      "Epoch 153: 100%|█████████████████████████████| 12/12 [00:01<00:00,  6.41batch/s]\n"
     ]
    },
    {
     "name": "stdout",
     "output_type": "stream",
     "text": [
      "epoch: 153 train_loss: 0.3483, train_acc: 0.5863 epoch time: 1.8719\n"
     ]
    },
    {
     "name": "stderr",
     "output_type": "stream",
     "text": [
      "Epoch 154: 100%|█████████████████████████████| 12/12 [00:01<00:00,  6.53batch/s]\n"
     ]
    },
    {
     "name": "stdout",
     "output_type": "stream",
     "text": [
      "epoch: 154 train_loss: 0.3434, train_acc: 0.5810 epoch time: 1.8391\n"
     ]
    },
    {
     "name": "stderr",
     "output_type": "stream",
     "text": [
      "Epoch 155: 100%|█████████████████████████████| 12/12 [00:01<00:00,  6.66batch/s]\n"
     ]
    },
    {
     "name": "stdout",
     "output_type": "stream",
     "text": [
      "epoch: 155 train_loss: 0.3466, train_acc: 0.5896 epoch time: 1.8035\n"
     ]
    },
    {
     "name": "stderr",
     "output_type": "stream",
     "text": [
      "Epoch 156: 100%|█████████████████████████████| 12/12 [00:01<00:00,  6.53batch/s]\n"
     ]
    },
    {
     "name": "stdout",
     "output_type": "stream",
     "text": [
      "epoch: 156 train_loss: 0.3437, train_acc: 0.5927 epoch time: 1.8389\n"
     ]
    },
    {
     "name": "stderr",
     "output_type": "stream",
     "text": [
      "Epoch 157: 100%|█████████████████████████████| 12/12 [00:02<00:00,  5.89batch/s]\n"
     ]
    },
    {
     "name": "stdout",
     "output_type": "stream",
     "text": [
      "epoch: 157 train_loss: 0.3482, train_acc: 0.6013 epoch time: 2.0373\n"
     ]
    },
    {
     "name": "stderr",
     "output_type": "stream",
     "text": [
      "Epoch 158: 100%|█████████████████████████████| 12/12 [00:01<00:00,  6.42batch/s]\n"
     ]
    },
    {
     "name": "stdout",
     "output_type": "stream",
     "text": [
      "epoch: 158 train_loss: 0.3437, train_acc: 0.5830 epoch time: 1.8709\n"
     ]
    },
    {
     "name": "stderr",
     "output_type": "stream",
     "text": [
      "Epoch 159: 100%|█████████████████████████████| 12/12 [00:01<00:00,  6.36batch/s]\n"
     ]
    },
    {
     "name": "stdout",
     "output_type": "stream",
     "text": [
      "epoch: 159 train_loss: 0.3426, train_acc: 0.5791 epoch time: 1.8889\n"
     ]
    },
    {
     "name": "stderr",
     "output_type": "stream",
     "text": [
      "Epoch 160: 100%|█████████████████████████████| 12/12 [00:01<00:00,  6.48batch/s]\n"
     ]
    },
    {
     "name": "stdout",
     "output_type": "stream",
     "text": [
      "epoch: 160 train_loss: 0.3500, train_acc: 0.5859 epoch time: 1.8526\n"
     ]
    },
    {
     "name": "stderr",
     "output_type": "stream",
     "text": [
      "Epoch 161: 100%|█████████████████████████████| 12/12 [00:01<00:00,  6.48batch/s]\n"
     ]
    },
    {
     "name": "stdout",
     "output_type": "stream",
     "text": [
      "epoch: 161 train_loss: 0.3456, train_acc: 0.5841 epoch time: 1.8531\n"
     ]
    },
    {
     "name": "stderr",
     "output_type": "stream",
     "text": [
      "Epoch 162: 100%|█████████████████████████████| 12/12 [00:01<00:00,  6.34batch/s]\n"
     ]
    },
    {
     "name": "stdout",
     "output_type": "stream",
     "text": [
      "epoch: 162 train_loss: 0.3466, train_acc: 0.5792 epoch time: 1.8942\n"
     ]
    },
    {
     "name": "stderr",
     "output_type": "stream",
     "text": [
      "Epoch 163: 100%|█████████████████████████████| 12/12 [00:01<00:00,  6.36batch/s]\n"
     ]
    },
    {
     "name": "stdout",
     "output_type": "stream",
     "text": [
      "epoch: 163 train_loss: 0.3412, train_acc: 0.5757 epoch time: 1.8886\n"
     ]
    },
    {
     "name": "stderr",
     "output_type": "stream",
     "text": [
      "Epoch 164: 100%|█████████████████████████████| 12/12 [00:01<00:00,  6.39batch/s]\n"
     ]
    },
    {
     "name": "stdout",
     "output_type": "stream",
     "text": [
      "epoch: 164 train_loss: 0.3434, train_acc: 0.5905 epoch time: 1.8786\n"
     ]
    },
    {
     "name": "stderr",
     "output_type": "stream",
     "text": [
      "Epoch 165: 100%|█████████████████████████████| 12/12 [00:01<00:00,  6.46batch/s]\n"
     ]
    },
    {
     "name": "stdout",
     "output_type": "stream",
     "text": [
      "epoch: 165 train_loss: 0.3468, train_acc: 0.5796 epoch time: 1.8578\n"
     ]
    },
    {
     "name": "stderr",
     "output_type": "stream",
     "text": [
      "Epoch 166: 100%|█████████████████████████████| 12/12 [00:01<00:00,  6.23batch/s]\n"
     ]
    },
    {
     "name": "stdout",
     "output_type": "stream",
     "text": [
      "epoch: 166 train_loss: 0.3414, train_acc: 0.6018 epoch time: 1.9261\n"
     ]
    },
    {
     "name": "stderr",
     "output_type": "stream",
     "text": [
      "Epoch 167: 100%|█████████████████████████████| 12/12 [00:01<00:00,  6.36batch/s]\n"
     ]
    },
    {
     "name": "stdout",
     "output_type": "stream",
     "text": [
      "epoch: 167 train_loss: 0.3460, train_acc: 0.5773 epoch time: 1.8871\n"
     ]
    },
    {
     "name": "stderr",
     "output_type": "stream",
     "text": [
      "Epoch 168: 100%|█████████████████████████████| 12/12 [00:02<00:00,  5.65batch/s]\n"
     ]
    },
    {
     "name": "stdout",
     "output_type": "stream",
     "text": [
      "epoch: 168 train_loss: 0.3440, train_acc: 0.5783 epoch time: 2.1266\n"
     ]
    },
    {
     "name": "stderr",
     "output_type": "stream",
     "text": [
      "Epoch 169: 100%|█████████████████████████████| 12/12 [00:02<00:00,  5.45batch/s]\n"
     ]
    },
    {
     "name": "stdout",
     "output_type": "stream",
     "text": [
      "epoch: 169 train_loss: 0.3448, train_acc: 0.5888 epoch time: 2.2044\n"
     ]
    },
    {
     "name": "stderr",
     "output_type": "stream",
     "text": [
      "Epoch 170: 100%|█████████████████████████████| 12/12 [00:02<00:00,  5.85batch/s]\n"
     ]
    },
    {
     "name": "stdout",
     "output_type": "stream",
     "text": [
      "epoch: 170 train_loss: 0.3452, train_acc: 0.5896 epoch time: 2.0520\n"
     ]
    },
    {
     "name": "stderr",
     "output_type": "stream",
     "text": [
      "Epoch 171: 100%|█████████████████████████████| 12/12 [00:01<00:00,  6.45batch/s]\n"
     ]
    },
    {
     "name": "stdout",
     "output_type": "stream",
     "text": [
      "epoch: 171 train_loss: 0.3443, train_acc: 0.5794 epoch time: 1.8604\n"
     ]
    },
    {
     "name": "stderr",
     "output_type": "stream",
     "text": [
      "Epoch 172: 100%|█████████████████████████████| 12/12 [00:02<00:00,  5.93batch/s]\n"
     ]
    },
    {
     "name": "stdout",
     "output_type": "stream",
     "text": [
      "epoch: 172 train_loss: 0.3514, train_acc: 0.5964 epoch time: 2.0249\n"
     ]
    },
    {
     "name": "stderr",
     "output_type": "stream",
     "text": [
      "Epoch 173: 100%|█████████████████████████████| 12/12 [00:01<00:00,  6.12batch/s]\n"
     ]
    },
    {
     "name": "stdout",
     "output_type": "stream",
     "text": [
      "epoch: 173 train_loss: 0.3413, train_acc: 0.5885 epoch time: 1.9609\n"
     ]
    },
    {
     "name": "stderr",
     "output_type": "stream",
     "text": [
      "Epoch 174: 100%|█████████████████████████████| 12/12 [00:01<00:00,  6.29batch/s]\n"
     ]
    },
    {
     "name": "stdout",
     "output_type": "stream",
     "text": [
      "epoch: 174 train_loss: 0.3394, train_acc: 0.5979 epoch time: 1.9093\n"
     ]
    },
    {
     "name": "stderr",
     "output_type": "stream",
     "text": [
      "Epoch 175: 100%|█████████████████████████████| 12/12 [00:01<00:00,  6.03batch/s]\n"
     ]
    },
    {
     "name": "stdout",
     "output_type": "stream",
     "text": [
      "epoch: 175 train_loss: 0.3458, train_acc: 0.5992 epoch time: 1.9894\n"
     ]
    },
    {
     "name": "stderr",
     "output_type": "stream",
     "text": [
      "Epoch 176: 100%|█████████████████████████████| 12/12 [00:02<00:00,  5.64batch/s]\n"
     ]
    },
    {
     "name": "stdout",
     "output_type": "stream",
     "text": [
      "epoch: 176 train_loss: 0.3381, train_acc: 0.5809 epoch time: 2.1277\n"
     ]
    },
    {
     "name": "stderr",
     "output_type": "stream",
     "text": [
      "Epoch 177: 100%|█████████████████████████████| 12/12 [00:01<00:00,  6.03batch/s]\n"
     ]
    },
    {
     "name": "stdout",
     "output_type": "stream",
     "text": [
      "epoch: 177 train_loss: 0.3385, train_acc: 0.5803 epoch time: 1.9910\n"
     ]
    },
    {
     "name": "stderr",
     "output_type": "stream",
     "text": [
      "Epoch 178: 100%|█████████████████████████████| 12/12 [00:01<00:00,  6.14batch/s]\n"
     ]
    },
    {
     "name": "stdout",
     "output_type": "stream",
     "text": [
      "epoch: 178 train_loss: 0.3385, train_acc: 0.5924 epoch time: 1.9564\n"
     ]
    },
    {
     "name": "stderr",
     "output_type": "stream",
     "text": [
      "Epoch 179: 100%|█████████████████████████████| 12/12 [00:01<00:00,  6.46batch/s]\n"
     ]
    },
    {
     "name": "stdout",
     "output_type": "stream",
     "text": [
      "epoch: 179 train_loss: 0.3403, train_acc: 0.5827 epoch time: 1.8593\n"
     ]
    },
    {
     "name": "stderr",
     "output_type": "stream",
     "text": [
      "Epoch 180: 100%|█████████████████████████████| 12/12 [00:01<00:00,  6.42batch/s]\n"
     ]
    },
    {
     "name": "stdout",
     "output_type": "stream",
     "text": [
      "epoch: 180 train_loss: 0.3413, train_acc: 0.5923 epoch time: 1.8693\n"
     ]
    },
    {
     "name": "stderr",
     "output_type": "stream",
     "text": [
      "Epoch 181: 100%|█████████████████████████████| 12/12 [00:01<00:00,  6.49batch/s]\n"
     ]
    },
    {
     "name": "stdout",
     "output_type": "stream",
     "text": [
      "epoch: 181 train_loss: 0.3382, train_acc: 0.6003 epoch time: 1.8496\n"
     ]
    },
    {
     "name": "stderr",
     "output_type": "stream",
     "text": [
      "Epoch 182: 100%|█████████████████████████████| 12/12 [00:01<00:00,  6.43batch/s]\n"
     ]
    },
    {
     "name": "stdout",
     "output_type": "stream",
     "text": [
      "epoch: 182 train_loss: 0.3411, train_acc: 0.5862 epoch time: 1.8669\n"
     ]
    },
    {
     "name": "stderr",
     "output_type": "stream",
     "text": [
      "Epoch 183: 100%|█████████████████████████████| 12/12 [00:01<00:00,  6.28batch/s]\n"
     ]
    },
    {
     "name": "stdout",
     "output_type": "stream",
     "text": [
      "epoch: 183 train_loss: 0.3417, train_acc: 0.5967 epoch time: 1.9108\n"
     ]
    },
    {
     "name": "stderr",
     "output_type": "stream",
     "text": [
      "Epoch 184: 100%|█████████████████████████████| 12/12 [00:02<00:00,  6.00batch/s]\n"
     ]
    },
    {
     "name": "stdout",
     "output_type": "stream",
     "text": [
      "epoch: 184 train_loss: 0.3357, train_acc: 0.5791 epoch time: 2.0026\n"
     ]
    },
    {
     "name": "stderr",
     "output_type": "stream",
     "text": [
      "Epoch 185: 100%|█████████████████████████████| 12/12 [00:01<00:00,  6.41batch/s]\n"
     ]
    },
    {
     "name": "stdout",
     "output_type": "stream",
     "text": [
      "epoch: 185 train_loss: 0.3392, train_acc: 0.5833 epoch time: 1.8733\n"
     ]
    },
    {
     "name": "stderr",
     "output_type": "stream",
     "text": [
      "Epoch 186: 100%|█████████████████████████████| 12/12 [00:01<00:00,  6.33batch/s]\n"
     ]
    },
    {
     "name": "stdout",
     "output_type": "stream",
     "text": [
      "epoch: 186 train_loss: 0.3385, train_acc: 0.5862 epoch time: 1.8976\n"
     ]
    },
    {
     "name": "stderr",
     "output_type": "stream",
     "text": [
      "Epoch 187: 100%|█████████████████████████████| 12/12 [00:01<00:00,  6.47batch/s]\n"
     ]
    },
    {
     "name": "stdout",
     "output_type": "stream",
     "text": [
      "epoch: 187 train_loss: 0.3375, train_acc: 0.5928 epoch time: 1.8557\n"
     ]
    },
    {
     "name": "stderr",
     "output_type": "stream",
     "text": [
      "Epoch 188: 100%|█████████████████████████████| 12/12 [00:01<00:00,  6.39batch/s]\n"
     ]
    },
    {
     "name": "stdout",
     "output_type": "stream",
     "text": [
      "epoch: 188 train_loss: 0.3393, train_acc: 0.5867 epoch time: 1.8795\n"
     ]
    },
    {
     "name": "stderr",
     "output_type": "stream",
     "text": [
      "Epoch 189: 100%|█████████████████████████████| 12/12 [00:01<00:00,  6.36batch/s]\n"
     ]
    },
    {
     "name": "stdout",
     "output_type": "stream",
     "text": [
      "epoch: 189 train_loss: 0.3348, train_acc: 0.5967 epoch time: 1.8874\n"
     ]
    },
    {
     "name": "stderr",
     "output_type": "stream",
     "text": [
      "Epoch 190: 100%|█████████████████████████████| 12/12 [00:01<00:00,  6.55batch/s]\n"
     ]
    },
    {
     "name": "stdout",
     "output_type": "stream",
     "text": [
      "epoch: 190 train_loss: 0.3477, train_acc: 0.5962 epoch time: 1.8333\n"
     ]
    },
    {
     "name": "stderr",
     "output_type": "stream",
     "text": [
      "Epoch 191: 100%|█████████████████████████████| 12/12 [00:01<00:00,  6.53batch/s]\n"
     ]
    },
    {
     "name": "stdout",
     "output_type": "stream",
     "text": [
      "epoch: 191 train_loss: 0.3369, train_acc: 0.6076 epoch time: 1.8377\n"
     ]
    },
    {
     "name": "stderr",
     "output_type": "stream",
     "text": [
      "Epoch 192: 100%|█████████████████████████████| 12/12 [00:01<00:00,  6.41batch/s]\n"
     ]
    },
    {
     "name": "stdout",
     "output_type": "stream",
     "text": [
      "epoch: 192 train_loss: 0.3393, train_acc: 0.5980 epoch time: 1.8723\n"
     ]
    },
    {
     "name": "stderr",
     "output_type": "stream",
     "text": [
      "Epoch 193: 100%|█████████████████████████████| 12/12 [00:01<00:00,  6.19batch/s]\n"
     ]
    },
    {
     "name": "stdout",
     "output_type": "stream",
     "text": [
      "epoch: 193 train_loss: 0.3408, train_acc: 0.5781 epoch time: 1.9399\n"
     ]
    },
    {
     "name": "stderr",
     "output_type": "stream",
     "text": [
      "Epoch 194: 100%|█████████████████████████████| 12/12 [00:01<00:00,  6.29batch/s]\n"
     ]
    },
    {
     "name": "stdout",
     "output_type": "stream",
     "text": [
      "epoch: 194 train_loss: 0.3382, train_acc: 0.5870 epoch time: 1.9084\n"
     ]
    },
    {
     "name": "stderr",
     "output_type": "stream",
     "text": [
      "Epoch 195: 100%|█████████████████████████████| 12/12 [00:01<00:00,  6.30batch/s]\n"
     ]
    },
    {
     "name": "stdout",
     "output_type": "stream",
     "text": [
      "epoch: 195 train_loss: 0.3358, train_acc: 0.5987 epoch time: 1.9068\n"
     ]
    },
    {
     "name": "stderr",
     "output_type": "stream",
     "text": [
      "Epoch 196: 100%|█████████████████████████████| 12/12 [00:01<00:00,  6.06batch/s]\n"
     ]
    },
    {
     "name": "stdout",
     "output_type": "stream",
     "text": [
      "epoch: 196 train_loss: 0.3375, train_acc: 0.5836 epoch time: 1.9817\n"
     ]
    },
    {
     "name": "stderr",
     "output_type": "stream",
     "text": [
      "Epoch 197: 100%|█████████████████████████████| 12/12 [00:02<00:00,  5.91batch/s]\n"
     ]
    },
    {
     "name": "stdout",
     "output_type": "stream",
     "text": [
      "epoch: 197 train_loss: 0.3356, train_acc: 0.5987 epoch time: 2.0314\n"
     ]
    },
    {
     "name": "stderr",
     "output_type": "stream",
     "text": [
      "Epoch 198: 100%|█████████████████████████████| 12/12 [00:01<00:00,  6.26batch/s]\n"
     ]
    },
    {
     "name": "stdout",
     "output_type": "stream",
     "text": [
      "epoch: 198 train_loss: 0.3407, train_acc: 0.5859 epoch time: 1.9183\n"
     ]
    },
    {
     "name": "stderr",
     "output_type": "stream",
     "text": [
      "Epoch 199: 100%|█████████████████████████████| 12/12 [00:01<00:00,  6.23batch/s]\n"
     ]
    },
    {
     "name": "stdout",
     "output_type": "stream",
     "text": [
      "epoch: 199 train_loss: 0.3374, train_acc: 0.5768 epoch time: 1.9265\n"
     ]
    },
    {
     "name": "stderr",
     "output_type": "stream",
     "text": [
      "Epoch 200: 100%|█████████████████████████████| 12/12 [00:01<00:00,  6.16batch/s]"
     ]
    },
    {
     "name": "stdout",
     "output_type": "stream",
     "text": [
      "epoch: 200 train_loss: 0.3319, train_acc: 0.5827 epoch time: 1.9502\n"
     ]
    },
    {
     "name": "stderr",
     "output_type": "stream",
     "text": [
      "\n"
     ]
    }
   ],
   "source": [
    "## train_loader, val_loader = get_loaders(config)\n",
    "losses = []\n",
    "accs = []\n",
    "for epoch in range(1, config.num_epochs + 1):\n",
    "\n",
    "    epoch_loss = []\n",
    "    epoch_accuracy = []\n",
    "    \n",
    "    with tqdm(train_loader, unit='batch') as tepoch:\n",
    "        \n",
    "        s = time()\n",
    "        for x, y, ego_graphs in tepoch:\n",
    "            tepoch.set_description(f\"Epoch {epoch}\")\n",
    "\n",
    "            x = x.numpy()\n",
    "            y = y.numpy()\n",
    "            \n",
    "            ego_graphs = ego_graphs.numpy().astype(np.int32)\n",
    "\n",
    "            (loss, logits), grads = qml_vvag(params, x, y, ego_graphs)\n",
    "            \n",
    "            accuracy = jnp.mean(jnp.argmax(logits, -1) == y)\n",
    "\n",
    "            updates, opt_state = optimizer.update(grads, opt_state)\n",
    "            params = optax.apply_updates(params, updates)\n",
    "\n",
    "            epoch_loss.append(jnp.mean(loss))\n",
    "            epoch_accuracy.append(accuracy)\n",
    "        \n",
    "        e = time()\n",
    "        \n",
    "        train_loss = np.mean(epoch_loss)\n",
    "        train_accuracy = np.mean(epoch_accuracy)\n",
    "        \n",
    "        print(\n",
    "        f'epoch: {epoch:3d}',\n",
    "        f'train_loss: {train_loss:.4f}, train_acc: {train_accuracy:.4f}',\n",
    "        f'epoch time: {e-s:.4f}')\n",
    "        \n",
    "        losses.append(train_loss)\n",
    "        accs.append(train_accuracy)\n",
    "        \n",
    "#         f'test_loss: {test_loss:.4f}, test_accuracy: {test_accuracy:.4f}')"
   ]
  },
  {
   "cell_type": "code",
   "execution_count": 18,
   "id": "bee19ac4",
   "metadata": {},
   "outputs": [],
   "source": [
    "import matplotlib.pyplot as plt"
   ]
  },
  {
   "cell_type": "code",
   "execution_count": 26,
   "id": "fc9a8a52",
   "metadata": {},
   "outputs": [
    {
     "data": {
      "text/plain": [
       "[<matplotlib.lines.Line2D at 0x7fa50d9e1250>]"
      ]
     },
     "execution_count": 26,
     "metadata": {},
     "output_type": "execute_result"
    },
    {
     "data": {
      "image/png": "[encoded data removed]",
      "text/plain": [
       "<Figure size 1200x500 with 2 Axes>"
      ]
     },
     "metadata": {},
     "output_type": "display_data"
    }
   ],
   "source": [
    "fig, (ax1, ax2) = plt.subplots(1, 2, figsize=(12,5))\n",
    "fig.suptitle('training loss (left) and accuracy (right)')\n",
    "ax1.plot(losses)\n",
    "ax2.plot(accs)"
   ]
  }
 ],
 "metadata": {
  "kernelspec": {
   "display_name": "Python (qmlhep)",
   "language": "python",
   "name": "qmlhep"
  },
  "language_info": {
   "codemirror_mode": {
    "name": "ipython",
    "version": 3
   },
   "file_extension": ".py",
   "mimetype": "text/x-python",
   "name": "python",
   "nbconvert_exporter": "python",
   "pygments_lexer": "ipython3",
   "version": "3.8.1"
  }
 },
 "nbformat": 4,
 "nbformat_minor": 5
}
