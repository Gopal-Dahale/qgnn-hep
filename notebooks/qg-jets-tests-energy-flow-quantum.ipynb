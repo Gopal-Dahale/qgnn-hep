{
 "cells": [
  {
   "cell_type": "code",
   "execution_count": 1,
   "id": "454df4da",
   "metadata": {},
   "outputs": [
    {
     "data": {
      "text/plain": [
       "[PhysicalDevice(name='/physical_device:GPU:0', device_type='GPU')]"
      ]
     },
     "execution_count": 1,
     "metadata": {},
     "output_type": "execute_result"
    }
   ],
   "source": [
    "import tensorflow as tf\n",
    "gpus = tf.config.list_physical_devices('GPU')\n",
    "gpus"
   ]
  },
  {
   "cell_type": "code",
   "execution_count": 2,
   "id": "5a8567ff",
   "metadata": {},
   "outputs": [
    {
     "name": "stdout",
     "output_type": "stream",
     "text": [
      "1 Physical GPUs, 1 Logical GPUs\n"
     ]
    }
   ],
   "source": [
    "if gpus:\n",
    "    try:\n",
    "        for gpu in gpus:\n",
    "            tf.config.experimental.set_memory_growth(gpu, True)\n",
    "        logical_gpus = tf.config.list_logical_devices('GPU')\n",
    "        print(len(gpus), \"Physical GPUs,\", len(logical_gpus), \"Logical GPUs\")\n",
    "    except RuntimeError as e:\n",
    "        print(e)"
   ]
  },
  {
   "cell_type": "code",
   "execution_count": 3,
   "id": "b728a478",
   "metadata": {},
   "outputs": [
    {
     "name": "stderr",
     "output_type": "stream",
     "text": [
      "Please first ``pip install -U cirq`` to enable related functionality in translation module\n"
     ]
    },
    {
     "data": {
      "text/plain": [
       "('complex128', 'float64')"
      ]
     },
     "execution_count": 3,
     "metadata": {},
     "output_type": "execute_result"
    }
   ],
   "source": [
    "# standard library imports\n",
    "from __future__ import absolute_import, division, print_function\n",
    "\n",
    "# standard numerical library imports\n",
    "import numpy as np\n",
    "\n",
    "# energyflow imports\n",
    "import energyflow as ef\n",
    "from energyflow.archs import PFN\n",
    "from energyflow.datasets import qg_jets\n",
    "from energyflow.utils import data_split, remap_pids, to_categorical, iter_or_rep\n",
    "from energyflow.archs.efn import construct_input, construct_pfn_weight_mask, construct_latent, construct_dense\n",
    "from energyflow.archs.archbase import _get_act_layer\n",
    "from sklearn.metrics import roc_auc_score, roc_curve\n",
    "import matplotlib.pyplot as plt\n",
    "\n",
    "from tensorflow.keras.layers import Concatenate, Dense, Dot, Dropout, Input, Lambda, TimeDistributed\n",
    "from tensorflow.keras.models import Model\n",
    "from tensorflow.keras.regularizers import l2\n",
    "\n",
    "import tensorcircuit as tc\n",
    "tc.set_backend(\"tensorflow\")\n",
    "tc.set_dtype(\"complex128\")"
   ]
  },
  {
   "cell_type": "code",
   "execution_count": 4,
   "id": "58a51d33",
   "metadata": {},
   "outputs": [
    {
     "data": {
      "text/plain": [
       "True"
      ]
     },
     "execution_count": 4,
     "metadata": {},
     "output_type": "execute_result"
    }
   ],
   "source": [
    "# tf.compat.v1.disable_eager_execution()\n",
    "tf.executing_eagerly()"
   ]
  },
  {
   "cell_type": "code",
   "execution_count": 5,
   "id": "ec982c99",
   "metadata": {},
   "outputs": [
    {
     "name": "stdout",
     "output_type": "stream",
     "text": [
      "Loaded quark and gluon jets\n"
     ]
    }
   ],
   "source": [
    "################################### SETTINGS ###################################\n",
    "# the commented values correspond to those in 1810.05165\n",
    "###############################################################################\n",
    "\n",
    "# data controls, can go up to 2000000 for full dataset\n",
    "train, val, test = 7500, 1000, 1500\n",
    "# train, val, test = 1000000, 200000, 200000\n",
    "use_pids = True\n",
    "\n",
    "# load data\n",
    "X, y = qg_jets.load(train + val + test)\n",
    "\n",
    "# convert labels to categorical\n",
    "Y = to_categorical(y, num_classes=2)\n",
    "\n",
    "print('Loaded quark and gluon jets')\n",
    "\n",
    "# preprocess by centering jets and normalizing pts\n",
    "for x in X:\n",
    "    mask = x[:,0] > 0\n",
    "    yphi_avg = np.average(x[mask,1:3], weights=x[mask,0], axis=0)\n",
    "    x[mask,1:3] -= yphi_avg\n",
    "    x[mask,0] /= x[:,0].sum()\n",
    "\n",
    "# handle particle id channel\n",
    "if use_pids:\n",
    "    remap_pids(X, pid_i=3, error_on_unknown=False)\n",
    "else:\n",
    "    X = X[:,:,:3]"
   ]
  },
  {
   "cell_type": "code",
   "execution_count": 13,
   "id": "e84c3819",
   "metadata": {},
   "outputs": [],
   "source": [
    "n_layers = 2\n",
    "n_qubits = 4"
   ]
  },
  {
   "cell_type": "code",
   "execution_count": 14,
   "id": "cc1fca44",
   "metadata": {},
   "outputs": [],
   "source": [
    "def drc(x, weights, in_shape):\n",
    "    x = tc.backend.cast(x, \"float64\")\n",
    "    c = tc.Circuit(n_qubits)\n",
    "    \n",
    "    steps = in_shape//3\n",
    "    for q in range(n_qubits):\n",
    "        c.h(q)\n",
    "    \n",
    "    for l in range(n_layers):\n",
    "        for q in range(n_qubits):\n",
    "            for i in range(steps):\n",
    "                z = x[3*i:3*i+3]* weights[l,q,0,3*i:3*i+3] + weights[l,q,1,3*i:3*i+3]\n",
    "                c.rz(q, theta=z[0])\n",
    "                c.ry(q, theta=z[1])\n",
    "                c.rz(q, theta=z[2])\n",
    "                \n",
    "        for q in range(n_qubits-1):\n",
    "            c.cnot(q, q+1)\n",
    "    \n",
    "#     return tc.backend.abs(c.state())**2\n",
    "    return tc.backend.real(tc.backend.stack([c.expectation_ps(z=[i]) for i in range(n_qubits)]))"
   ]
  },
  {
   "cell_type": "code",
   "execution_count": 15,
   "id": "a388e62c",
   "metadata": {},
   "outputs": [],
   "source": [
    "# network architecture parameters\n",
    "Phi_sizes, F_sizes = (6, 10, 128), (8, 9, 100)\n",
    "mask_val = 0\n",
    "latent_dropout = 0.0\n",
    "input_dim = X.shape[-1]\n",
    "output_dim = 2\n",
    "output_act = 'softmax'\n",
    "\n",
    "# compilation\n",
    "compile_opts = {\n",
    "    'loss': 'categorical_crossentropy',\n",
    "    'optimizer': 'adam',\n",
    "    'metrics': ['acc']\n",
    "}"
   ]
  },
  {
   "cell_type": "code",
   "execution_count": 16,
   "id": "e05406b0",
   "metadata": {},
   "outputs": [],
   "source": [
    "# import tensorflow.keras.backend as K\n",
    "# from functools import partial\n",
    "\n",
    "# class HQCPFN(tf.keras.Model):\n",
    "\n",
    "#     def __init__(self, hidden=3):\n",
    "#         super().__init__()\n",
    "\n",
    "#         assert hidden % 3 == 0, 'hidden has to be multipe of 3'\n",
    "#         d_layer = Dense(hidden,\n",
    "#                         kernel_initializer='he_uniform',\n",
    "#                         activation='relu')\n",
    "#         self.tdist_layer = TimeDistributed(d_layer, name='tdist')\n",
    "\n",
    "#         # define a function which maps the given mask_val to zero\n",
    "#         def pfn_mask_func(X, mask_val=mask_val):\n",
    "#             # map mask_val to zero and return 1 elsewhere\n",
    "#             return K.cast(K.any(K.not_equal(X, mask_val), axis=-1), K.dtype(X))\n",
    "\n",
    "#         self.mask_layer = Lambda(pfn_mask_func, name='mask')\n",
    "\n",
    "#         # DATA REUPLOADING LAYER\n",
    "#         q_layer = tc.keras.QuantumLayer(partial(drc, in_shape=hidden),\n",
    "#                                         weights_shape=(n_layers, n_qubits, 2,\n",
    "#                                                        hidden))\n",
    "\n",
    "#         q_layer.compute_output_shape = lambda input_shape: (input_shape[0], 2**\n",
    "#                                                             n_qubits)\n",
    "#         self.qtdist_layer = TimeDistributed(q_layer, name='q_layer')\n",
    "\n",
    "#         self.dot_layer = Dot(1, name='sum')\n",
    "\n",
    "#         # Final dense heads\n",
    "#         sizes = [10,]\n",
    "#         self.dense_layers = [\n",
    "#             Dense(size, kernel_initializer='he_uniform', activation='relu')\n",
    "#             for size in sizes\n",
    "#         ]\n",
    "        \n",
    "#         # classification head\n",
    "#         self.head = Dense(2, kernel_initializer='he_uniform', activation='softmax')\n",
    "\n",
    "#     def call(self, input_tensor):\n",
    "#         x = self.tdist_layer(input_tensor)\n",
    "#         x = self.qtdist_layer(x)\n",
    "\n",
    "#         mask_x = self.mask_layer(input_tensor)\n",
    "#         x = self.dot_layer([mask_x, x])\n",
    "        \n",
    "#         for layer in self.dense_layers:\n",
    "#             x = layer(x)\n",
    "        \n",
    "#         x = self.head(x)\n",
    "#         return x\n",
    "\n",
    "#     def build_graph(self, raw_shape):\n",
    "#         x = tf.keras.Input(shape=raw_shape)\n",
    "#         return tf.keras.Model(inputs=[x], outputs=self.call(x))\n",
    "\n",
    "\n",
    "# hqcpfn = HQCPFN()\n",
    "# hqcpfn.compile(**compile_opts)\n",
    "# hqcpfn.build_graph((139, 4)).summary()"
   ]
  },
  {
   "cell_type": "code",
   "execution_count": 17,
   "id": "c1ccdaee",
   "metadata": {},
   "outputs": [
    {
     "name": "stdout",
     "output_type": "stream",
     "text": [
      "Model: \"model_1\"\n",
      "__________________________________________________________________________________________________\n",
      " Layer (type)                   Output Shape         Param #     Connected to                     \n",
      "==================================================================================================\n",
      " input_2 (InputLayer)           [(None, 139, 4)]     0           []                               \n",
      "                                                                                                  \n",
      " tdist_0 (TimeDistributed)      (None, 139, 100)     500         ['input_2[0][0]']                \n",
      "                                                                                                  \n",
      " tdist_1 (TimeDistributed)      (None, 139, 100)     10100       ['tdist_0[0][0]']                \n",
      "                                                                                                  \n",
      " mask (Lambda)                  (None, 139)          0           ['input_2[0][0]']                \n",
      "                                                                                                  \n",
      " tdist_2 (TimeDistributed)      (None, 139, 128)     12928       ['tdist_1[0][0]']                \n",
      "                                                                                                  \n",
      " sum (Dot)                      (None, 128)          0           ['mask[0][0]',                   \n",
      "                                                                  'tdist_2[0][0]']                \n",
      "                                                                                                  \n",
      " dense_8 (Dense)                (None, 3)            387         ['sum[0][0]']                    \n",
      "                                                                                                  \n",
      " quantum_layer_1 (QuantumLayer)  (None, 4)           48          ['dense_8[0][0]']                \n",
      "                                                                                                  \n",
      " dense_9 (Dense)                (None, 2)            10          ['quantum_layer_1[0][0]']        \n",
      "                                                                                                  \n",
      "==================================================================================================\n",
      "Total params: 23,973\n",
      "Trainable params: 23,973\n",
      "Non-trainable params: 0\n",
      "__________________________________________________________________________________________________\n"
     ]
    }
   ],
   "source": [
    "import tensorflow.keras.backend as K\n",
    "from functools import partial\n",
    "\n",
    "class HQCEndPFN(tf.keras.Model):\n",
    "\n",
    "    def __init__(self, hidden=3):\n",
    "        super().__init__()\n",
    "\n",
    "        assert hidden % 3 == 0, 'hidden has to be multipe of 3'\n",
    "        \n",
    "        sizes = [100,100,128]\n",
    "        self.initial_dense_layers = [\n",
    "            TimeDistributed(Dense(size, kernel_initializer='he_uniform', activation='relu'), name=f'tdist_{i}')\n",
    "            for i, size in enumerate(sizes)\n",
    "        ]\n",
    "        \n",
    "        # define a function which maps the given mask_val to zero\n",
    "        def pfn_mask_func(X, mask_val=mask_val):\n",
    "            # map mask_val to zero and return 1 elsewhere\n",
    "            return K.cast(K.any(K.not_equal(X, mask_val), axis=-1), K.dtype(X))\n",
    "\n",
    "        self.mask_layer = Lambda(pfn_mask_func, name='mask')\n",
    "        \n",
    "        self.dot_layer = Dot(1, name='sum')\n",
    "        self.d_layer = Dense(hidden, kernel_initializer='he_uniform', activation='tanh')\n",
    "\n",
    "        # DATA REUPLOADING LAYER\n",
    "        self.q_layer = tc.keras.QuantumLayer(partial(drc, in_shape=hidden),\n",
    "                                        weights_shape=(n_layers, n_qubits, 2,\n",
    "                                                       hidden))\n",
    "\n",
    "        self.q_layer.compute_output_shape = lambda input_shape: (input_shape[0], n_qubits)\n",
    "        \n",
    "        # classification head\n",
    "        self.head = Dense(2, kernel_initializer='he_uniform', activation='softmax')\n",
    "\n",
    "    def call(self, input_tensor):\n",
    "        \n",
    "        x = input_tensor\n",
    "        for layer in self.initial_dense_layers:\n",
    "            x = layer(x)\n",
    "\n",
    "        mask_x = self.mask_layer(input_tensor)\n",
    "        \n",
    "        x = self.dot_layer([mask_x, x])\n",
    "        x = self.d_layer(x)\n",
    "        x = self.q_layer(x)\n",
    "        x = self.head(x)\n",
    "        return x\n",
    "\n",
    "    def build_graph(self, raw_shape):\n",
    "        x = tf.keras.Input(shape=raw_shape)\n",
    "        return tf.keras.Model(inputs=[x], outputs=self.call(x))\n",
    "\n",
    "\n",
    "model = HQCEndPFN()\n",
    "model.compile(**compile_opts)\n",
    "model.build_graph((139, 4)).summary()"
   ]
  },
  {
   "cell_type": "code",
   "execution_count": 18,
   "id": "2676803a",
   "metadata": {
    "scrolled": false
   },
   "outputs": [
    {
     "name": "stdout",
     "output_type": "stream",
     "text": [
      "Finished preprocessing\n",
      "Done train/val/test split\n",
      "Epoch 1/5\n",
      "15/15 [==============================] - 12s 361ms/step - loss: 0.6920 - acc: 0.5232 - val_loss: 0.6904 - val_acc: 0.4940\n",
      "Epoch 2/5\n",
      "15/15 [==============================] - 1s 40ms/step - loss: 0.6873 - acc: 0.5140 - val_loss: 0.6850 - val_acc: 0.4940\n",
      "Epoch 3/5\n",
      "15/15 [==============================] - 1s 40ms/step - loss: 0.6795 - acc: 0.5140 - val_loss: 0.6755 - val_acc: 0.4940\n",
      "Epoch 4/5\n",
      "15/15 [==============================] - 1s 39ms/step - loss: 0.6665 - acc: 0.6380 - val_loss: 0.6612 - val_acc: 0.7700\n",
      "Epoch 5/5\n",
      "15/15 [==============================] - 1s 39ms/step - loss: 0.6497 - acc: 0.7541 - val_loss: 0.6421 - val_acc: 0.7620\n",
      "\n",
      "PFN AUC: 0.8560124582869855\n",
      "\n"
     ]
    },
    {
     "data": {
      "image/png": "[encoded data removed]",
      "text/plain": [
       "<Figure size 400x400 with 1 Axes>"
      ]
     },
     "metadata": {},
     "output_type": "display_data"
    }
   ],
   "source": [
    "# network training parameters\n",
    "num_epoch = 5\n",
    "batch_size = 500\n",
    "\n",
    "################################################################################\n",
    "\n",
    "print('Finished preprocessing')\n",
    "\n",
    "# do train/val/test split\n",
    "(X_train, X_val, X_test, Y_train, Y_val, Y_test) = data_split(X,\n",
    "                                                              Y,\n",
    "                                                              val=val,\n",
    "                                                              test=test)\n",
    "\n",
    "print('Done train/val/test split')\n",
    "# print('Model summary:')\n",
    "\n",
    "# build architecture\n",
    "# pfn = PFN(input_dim=X.shape[-1], Phi_sizes=Phi_sizes, F_sizes=F_sizes)\n",
    "\n",
    "# train model\n",
    "\n",
    "model.fit(X_train,\n",
    "           Y_train,\n",
    "           epochs=num_epoch,\n",
    "           batch_size=batch_size,\n",
    "           validation_data=(X_val, Y_val),\n",
    "           verbose=1)\n",
    "\n",
    "# pfn.fit(X_train, Y_train,\n",
    "#         epochs=num_epoch,\n",
    "#         batch_size=batch_size,\n",
    "#         validation_data=(X_val, Y_val),\n",
    "#         verbose=1)\n",
    "\n",
    "# get predictions on test data\n",
    "preds = model.predict(X_test, batch_size=1000)\n",
    "\n",
    "# get ROC curve\n",
    "pfn_fp, pfn_tp, threshs = roc_curve(Y_test[:,1], preds[:,1])\n",
    "\n",
    "# get area under the ROC curve\n",
    "auc = roc_auc_score(Y_test[:,1], preds[:,1])\n",
    "print()\n",
    "print('PFN AUC:', auc)\n",
    "print()\n",
    "\n",
    "# get multiplicity and mass for comparison\n",
    "masses = np.asarray([ef.ms_from_p4s(ef.p4s_from_ptyphims(x).sum(axis=0)) for x in X])\n",
    "mults = np.asarray([np.count_nonzero(x[:,0]) for x in X])\n",
    "mass_fp, mass_tp, threshs = roc_curve(Y[:,1], -masses)\n",
    "mult_fp, mult_tp, threshs = roc_curve(Y[:,1], -mults)\n",
    "\n",
    "# some nicer plot settings\n",
    "plt.rcParams['figure.figsize'] = (4,4)\n",
    "plt.rcParams['font.family'] = 'serif'\n",
    "plt.rcParams['figure.autolayout'] = True\n",
    "\n",
    "# plot the ROC curves\n",
    "plt.plot(pfn_tp, 1-pfn_fp, '-', color='black', label='PFN')\n",
    "plt.plot(mass_tp, 1-mass_fp, '-', color='blue', label='Jet Mass')\n",
    "plt.plot(mult_tp, 1-mult_fp, '-', color='red', label='Multiplicity')\n",
    "\n",
    "# axes labels\n",
    "plt.xlabel('Quark Jet Efficiency')\n",
    "plt.ylabel('Gluon Jet Rejection')\n",
    "\n",
    "# axes limits\n",
    "plt.xlim(0, 1)\n",
    "plt.ylim(0, 1)\n",
    "\n",
    "# make legend and show plot\n",
    "plt.legend(loc='lower left', frameon=False)\n",
    "plt.show()"
   ]
  },
  {
   "cell_type": "code",
   "execution_count": null,
   "id": "6d0ada84",
   "metadata": {},
   "outputs": [],
   "source": []
  }
 ],
 "metadata": {
  "kernelspec": {
   "display_name": "Python (qmlhep)",
   "language": "python",
   "name": "qmlhep"
  },
  "language_info": {
   "codemirror_mode": {
    "name": "ipython",
    "version": 3
   },
   "file_extension": ".py",
   "mimetype": "text/x-python",
   "name": "python",
   "nbconvert_exporter": "python",
   "pygments_lexer": "ipython3",
   "version": "3.8.1"
  }
 },
 "nbformat": 4,
 "nbformat_minor": 5
}
